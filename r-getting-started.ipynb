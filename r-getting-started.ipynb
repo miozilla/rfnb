{
 "cells": [
  {
   "cell_type": "markdown",
   "metadata": {
    "_cell_guid": "2fa76457-e656-4397-9867-a09b09907379",
    "_uuid": "a9846c21e29b54b6f986ff40f3c48e7a311de237"
   },
   "source": [
    "![](https://www.r-project.org/Rlogo.png)\n",
    "\n",
    "____________________________________________________________________________________\n",
    "\n",
    "### Objective:\n",
    "\n",
    "* To load data into R\n",
    "* To make sure data_frame has the right data types\n",
    "* To leverage functions, variables & vectors\n",
    "* To summarize data\n",
    "* To find the summary statistics for a specific variable\n",
    "* To summarize a variable by groups\n",
    "\n",
    "____________________________________________________________________________________"
   ]
  },
  {
   "cell_type": "markdown",
   "metadata": {
    "_cell_guid": "867cad27-c506-416f-be34-ce1d747153c4",
    "_uuid": "8d7230f9a43418336b7f66a12245aaf94a440034"
   },
   "source": [
    "## Load data into R"
   ]
  },
  {
   "cell_type": "code",
   "execution_count": null,
   "metadata": {
    "execution": {
     "iopub.execute_input": "2025-07-08T03:43:55.716132Z",
     "iopub.status.busy": "2025-07-08T03:43:55.714345Z",
     "iopub.status.idle": "2025-07-08T03:43:55.739392Z",
     "shell.execute_reply": "2025-07-08T03:43:55.737806Z"
    },
    "trusted": true,
    "vscode": {
     "languageId": "r"
    }
   },
   "outputs": [
    {
     "data": {
      "text/html": [
       "'/kaggle/working'"
      ],
      "text/latex": [
       "'/kaggle/working'"
      ],
      "text/markdown": [
       "'/kaggle/working'"
      ],
      "text/plain": [
       "[1] \"/kaggle/working\""
      ]
     },
     "metadata": {},
     "output_type": "display_data"
    },
    {
     "data": {
      "text/html": [
       "'flavors_of_cacao.csv'"
      ],
      "text/latex": [
       "'flavors\\_of\\_cacao.csv'"
      ],
      "text/markdown": [
       "'flavors_of_cacao.csv'"
      ],
      "text/plain": [
       "[1] \"flavors_of_cacao.csv\""
      ]
     },
     "metadata": {},
     "output_type": "display_data"
    }
   ],
   "source": [
    "# Initial Checking\n",
    "getwd()\n",
    "list.files(\"/kaggle/input\")"
   ]
  },
  {
   "cell_type": "code",
   "execution_count": null,
   "metadata": {
    "_cell_guid": "1f8b9646-80d1-49a1-8b4c-5eccf7fbfe1b",
    "_uuid": "400c19d49c96f13b53eb6a90bda6fa5c21f40fa3",
    "execution": {
     "iopub.execute_input": "2025-07-08T04:09:46.536554Z",
     "iopub.status.busy": "2025-07-08T04:09:46.534687Z",
     "iopub.status.idle": "2025-07-08T04:09:46.653816Z",
     "shell.execute_reply": "2025-07-08T04:09:46.651436Z"
    },
    "trusted": true,
    "vscode": {
     "languageId": "r"
    }
   },
   "outputs": [
    {
     "name": "stderr",
     "output_type": "stream",
     "text": [
      "\u001b[1mRows: \u001b[22m\u001b[34m1795\u001b[39m \u001b[1mColumns: \u001b[22m\u001b[34m9\u001b[39m\n",
      "\u001b[36m──\u001b[39m \u001b[1mColumn specification\u001b[22m \u001b[36m────────────────────────────────────────────────────────\u001b[39m\n",
      "\u001b[1mDelimiter:\u001b[22m \",\"\n",
      "\u001b[31mchr\u001b[39m (6): Company \n",
      "(Maker-if known), Specific Bean Origin\n",
      "or Bar Name, Cocoa\n",
      "...\n",
      "\u001b[32mdbl\u001b[39m (3): REF, Review\n",
      "Date, Rating\n",
      "\n",
      "\u001b[36mℹ\u001b[39m Use `spec()` to retrieve the full column specification for this data.\n",
      "\u001b[36mℹ\u001b[39m Specify the column types or set `show_col_types = FALSE` to quiet this message.\n"
     ]
    },
    {
     "data": {
      "text/html": [
       "<table class=\"dataframe\">\n",
       "<caption>A tibble: 6 × 9</caption>\n",
       "<thead>\n",
       "\t<tr><th scope=col>Company \n",
       "(Maker-if known)</th><th scope=col>Specific Bean Origin\n",
       "or Bar Name</th><th scope=col>REF</th><th scope=col>Review\n",
       "Date</th><th scope=col>Cocoa\n",
       "Percent</th><th scope=col>Company\n",
       "Location</th><th scope=col>Rating</th><th scope=col>Bean\n",
       "Type</th><th scope=col>Broad Bean\n",
       "Origin</th></tr>\n",
       "\t<tr><th scope=col>&lt;chr&gt;</th><th scope=col>&lt;chr&gt;</th><th scope=col>&lt;dbl&gt;</th><th scope=col>&lt;dbl&gt;</th><th scope=col>&lt;chr&gt;</th><th scope=col>&lt;chr&gt;</th><th scope=col>&lt;dbl&gt;</th><th scope=col>&lt;chr&gt;</th><th scope=col>&lt;chr&gt;</th></tr>\n",
       "</thead>\n",
       "<tbody>\n",
       "\t<tr><td>A. Morin</td><td>Kpime   </td><td>1676</td><td>2015</td><td>70%</td><td>France</td><td>2.75</td><td>       </td><td>Togo     </td></tr>\n",
       "\t<tr><td>A. Morin</td><td>Atsane  </td><td>1676</td><td>2015</td><td>70%</td><td>France</td><td>3.00</td><td>       </td><td>Togo     </td></tr>\n",
       "\t<tr><td>A. Morin</td><td>Akata   </td><td>1680</td><td>2015</td><td>70%</td><td>France</td><td>3.50</td><td>       </td><td>Togo     </td></tr>\n",
       "\t<tr><td>A. Morin</td><td>Quilla  </td><td>1704</td><td>2015</td><td>70%</td><td>France</td><td>3.50</td><td>       </td><td>Peru     </td></tr>\n",
       "\t<tr><td>A. Morin</td><td>Carenero</td><td>1315</td><td>2014</td><td>70%</td><td>France</td><td>2.75</td><td>Criollo</td><td>Venezuela</td></tr>\n",
       "\t<tr><td>A. Morin</td><td>Cuba    </td><td>1315</td><td>2014</td><td>70%</td><td>France</td><td>3.50</td><td>       </td><td>Cuba     </td></tr>\n",
       "</tbody>\n",
       "</table>\n"
      ],
      "text/latex": [
       "A tibble: 6 × 9\n",
       "\\begin{tabular}{lllllllll}\n",
       " Company \n",
       "(Maker-if known) & Specific Bean Origin\n",
       "or Bar Name & REF & Review\n",
       "Date & Cocoa\n",
       "Percent & Company\n",
       "Location & Rating & Bean\n",
       "Type & Broad Bean\n",
       "Origin\\\\\n",
       " <chr> & <chr> & <dbl> & <dbl> & <chr> & <chr> & <dbl> & <chr> & <chr>\\\\\n",
       "\\hline\n",
       "\t A. Morin & Kpime    & 1676 & 2015 & 70\\% & France & 2.75 &         & Togo     \\\\\n",
       "\t A. Morin & Atsane   & 1676 & 2015 & 70\\% & France & 3.00 &         & Togo     \\\\\n",
       "\t A. Morin & Akata    & 1680 & 2015 & 70\\% & France & 3.50 &         & Togo     \\\\\n",
       "\t A. Morin & Quilla   & 1704 & 2015 & 70\\% & France & 3.50 &         & Peru     \\\\\n",
       "\t A. Morin & Carenero & 1315 & 2014 & 70\\% & France & 2.75 & Criollo & Venezuela\\\\\n",
       "\t A. Morin & Cuba     & 1315 & 2014 & 70\\% & France & 3.50 &         & Cuba     \\\\\n",
       "\\end{tabular}\n"
      ],
      "text/markdown": [
       "\n",
       "A tibble: 6 × 9\n",
       "\n",
       "| Company \n",
       "(Maker-if known) &lt;chr&gt; | Specific Bean Origin\n",
       "or Bar Name &lt;chr&gt; | REF &lt;dbl&gt; | Review\n",
       "Date &lt;dbl&gt; | Cocoa\n",
       "Percent &lt;chr&gt; | Company\n",
       "Location &lt;chr&gt; | Rating &lt;dbl&gt; | Bean\n",
       "Type &lt;chr&gt; | Broad Bean\n",
       "Origin &lt;chr&gt; |\n",
       "|---|---|---|---|---|---|---|---|---|\n",
       "| A. Morin | Kpime    | 1676 | 2015 | 70% | France | 2.75 |         | Togo      |\n",
       "| A. Morin | Atsane   | 1676 | 2015 | 70% | France | 3.00 |         | Togo      |\n",
       "| A. Morin | Akata    | 1680 | 2015 | 70% | France | 3.50 |         | Togo      |\n",
       "| A. Morin | Quilla   | 1704 | 2015 | 70% | France | 3.50 |         | Peru      |\n",
       "| A. Morin | Carenero | 1315 | 2014 | 70% | France | 2.75 | Criollo | Venezuela |\n",
       "| A. Morin | Cuba     | 1315 | 2014 | 70% | France | 3.50 |         | Cuba      |\n",
       "\n"
      ],
      "text/plain": [
       "  Company \\n(Maker-if known) Specific Bean Origin\\nor Bar Name REF \n",
       "1 A. Morin                   Kpime                             1676\n",
       "2 A. Morin                   Atsane                            1676\n",
       "3 A. Morin                   Akata                             1680\n",
       "4 A. Morin                   Quilla                            1704\n",
       "5 A. Morin                   Carenero                          1315\n",
       "6 A. Morin                   Cuba                              1315\n",
       "  Review\\nDate Cocoa\\nPercent Company\\nLocation Rating Bean\\nType\n",
       "1 2015         70%            France            2.75             \n",
       "2 2015         70%            France            3.00             \n",
       "3 2015         70%            France            3.50             \n",
       "4 2015         70%            France            3.50             \n",
       "5 2014         70%            France            2.75   Criollo   \n",
       "6 2014         70%            France            3.50             \n",
       "  Broad Bean\\nOrigin\n",
       "1 Togo              \n",
       "2 Togo              \n",
       "3 Togo              \n",
       "4 Peru              \n",
       "5 Venezuela         \n",
       "6 Cuba              "
      ]
     },
     "metadata": {},
     "output_type": "display_data"
    }
   ],
   "source": [
    "# Call the \"tidyverse\" library using the library() function\n",
    "library(tidyverse)\n",
    "\n",
    "# read our data file into R and assign it to a variable called \"chocolateData\". \n",
    "# Find out where the data is by expanding the \"Input Files\"\n",
    "# box above by clicking the + sign in the left corner.\n",
    "chocolateData <- read_csv(\"../input/flavors_of_cacao.csv\")\n",
    "# names(chocolateData) <- make.names(names(chocolateData), unique=TRUE)\n",
    "# print(names(chocolateData))\n",
    "\n",
    "# remove the first row of the chocolateData data_frame using a negative index\n",
    "chocolateData <- chocolateData[-1,]\n",
    "\n",
    "# check the first few rows of the data using the head() function to make sure it\n",
    "# looks alright\n",
    "head(chocolateData)"
   ]
  },
  {
   "cell_type": "code",
   "execution_count": 30,
   "metadata": {
    "_cell_guid": "fb2c4d0e-dce9-48cc-9ddc-4d9d09fbb652",
    "_uuid": "99c6c48c7b7abc87ccbeced0a26be7bf73883f2a",
    "execution": {
     "iopub.execute_input": "2025-07-08T04:10:06.199920Z",
     "iopub.status.busy": "2025-07-08T04:10:06.198093Z",
     "iopub.status.idle": "2025-07-08T04:10:06.227688Z",
     "shell.execute_reply": "2025-07-08T04:10:06.225163Z"
    },
    "scrolled": true,
    "trusted": true,
    "vscode": {
     "languageId": "r"
    }
   },
   "outputs": [
    {
     "name": "stdout",
     "output_type": "stream",
     "text": [
      "tibble [1,794 × 9] (S3: tbl_df/tbl/data.frame)\n",
      " $ Company _(Maker-if_known)       : chr [1:1794] \"A. Morin\" \"A. Morin\" \"A. Morin\" \"A. Morin\" ...\n",
      " $ Specific_Bean_Origin_or_Bar_Name: chr [1:1794] \"Kpime\" \"Atsane\" \"Akata\" \"Quilla\" ...\n",
      " $ REF                             : num [1:1794] 1676 1676 1680 1704 1315 ...\n",
      " $ Review_Date                     : num [1:1794] 2015 2015 2015 2015 2014 ...\n",
      " $ Cocoa_Percent                   : chr [1:1794] \"70%\" \"70%\" \"70%\" \"70%\" ...\n",
      " $ Company_Location                : chr [1:1794] \"France\" \"France\" \"France\" \"France\" ...\n",
      " $ Rating                          : num [1:1794] 2.75 3 3.5 3.5 2.75 3.5 3.5 3.75 4 2.75 ...\n",
      " $ Bean_Type                       : chr [1:1794] \" \" \" \" \" \" \" \" ...\n",
      " $ Broad_Bean_Origin               : chr [1:1794] \"Togo\" \"Togo\" \"Togo\" \"Peru\" ...\n"
     ]
    }
   ],
   "source": [
    "# Before we get going, let's get rid of the white spaces in the column names of this\n",
    "# dataset. This will make it possible for us to refer to columns by thier names, since\n",
    "# any white space in a name will mess R up.\n",
    "\n",
    "names(chocolateData) <- gsub(\"[[:space:]+]\", \"_\", names(chocolateData))\n",
    "str(chocolateData)"
   ]
  },
  {
   "cell_type": "markdown",
   "metadata": {
    "_cell_guid": "7f520705-436c-4bfa-896d-faa06d2e0c2f",
    "_uuid": "013f50033dd520e270b61595c187aa7b23d3ade6"
   },
   "source": [
    "## Data Cleaning"
   ]
  },
  {
   "cell_type": "code",
   "execution_count": null,
   "metadata": {
    "_cell_guid": "5c394b81-ca26-4652-99b9-92645e4febc9",
    "_uuid": "d3eca0d5daf078eb9b7346f450372def9aee7e03",
    "execution": {
     "iopub.execute_input": "2025-07-08T04:10:37.840010Z",
     "iopub.status.busy": "2025-07-08T04:10:37.838270Z",
     "iopub.status.idle": "2025-07-08T04:10:37.861059Z",
     "shell.execute_reply": "2025-07-08T04:10:37.859301Z"
    },
    "trusted": true,
    "vscode": {
     "languageId": "r"
    }
   },
   "outputs": [
    {
     "name": "stdout",
     "output_type": "stream",
     "text": [
      "tibble [1,794 × 9] (S3: tbl_df/tbl/data.frame)\n",
      " $ Company _(Maker-if_known)       : chr [1:1794] \"A. Morin\" \"A. Morin\" \"A. Morin\" \"A. Morin\" ...\n",
      " $ Specific_Bean_Origin_or_Bar_Name: chr [1:1794] \"Kpime\" \"Atsane\" \"Akata\" \"Quilla\" ...\n",
      " $ REF                             : num [1:1794] 1676 1676 1680 1704 1315 ...\n",
      " $ Review_Date                     : num [1:1794] 2015 2015 2015 2015 2014 ...\n",
      " $ Cocoa_Percent                   : chr [1:1794] \"70%\" \"70%\" \"70%\" \"70%\" ...\n",
      " $ Company_Location                : chr [1:1794] \"France\" \"France\" \"France\" \"France\" ...\n",
      " $ Rating                          : num [1:1794] 2.75 3 3.5 3.5 2.75 3.5 3.5 3.75 4 2.75 ...\n",
      " $ Bean_Type                       : chr [1:1794] \" \" \" \" \" \" \" \" ...\n",
      " $ Broad_Bean_Origin               : chr [1:1794] \"Togo\" \"Togo\" \"Togo\" \"Peru\" ...\n"
     ]
    }
   ],
   "source": [
    "# Use the str() function to check the data type of the columns in chocolateData\n",
    "str(chocolateData)"
   ]
  },
  {
   "cell_type": "code",
   "execution_count": 33,
   "metadata": {
    "_cell_guid": "a8a356c5-4a0f-4241-bea7-aa3440df8e0f",
    "_uuid": "e264a5fedcecef6609f3c5328d30bf5db7987685",
    "execution": {
     "iopub.execute_input": "2025-07-08T04:11:25.942248Z",
     "iopub.status.busy": "2025-07-08T04:11:25.940272Z",
     "iopub.status.idle": "2025-07-08T04:11:25.972028Z",
     "shell.execute_reply": "2025-07-08T04:11:25.970472Z"
    },
    "trusted": true,
    "vscode": {
     "languageId": "r"
    }
   },
   "outputs": [
    {
     "data": {
      "text/html": [
       "<style>\n",
       ".list-inline {list-style: none; margin:0; padding: 0}\n",
       ".list-inline>li {display: inline-block}\n",
       ".list-inline>li:not(:last-child)::after {content: \"\\00b7\"; padding: 0 .5ex}\n",
       "</style>\n",
       "<ol class=list-inline><li>2.75</li><li>3</li><li>3.5</li><li>3.5</li><li>2.75</li><li>3.5</li></ol>\n"
      ],
      "text/latex": [
       "\\begin{enumerate*}\n",
       "\\item 2.75\n",
       "\\item 3\n",
       "\\item 3.5\n",
       "\\item 3.5\n",
       "\\item 2.75\n",
       "\\item 3.5\n",
       "\\end{enumerate*}\n"
      ],
      "text/markdown": [
       "1. 2.75\n",
       "2. 3\n",
       "3. 3.5\n",
       "4. 3.5\n",
       "5. 2.75\n",
       "6. 3.5\n",
       "\n",
       "\n"
      ],
      "text/plain": [
       "[1] 2.75 3.00 3.50 3.50 2.75 3.50"
      ]
     },
     "metadata": {},
     "output_type": "display_data"
    },
    {
     "data": {
      "text/html": [
       "<style>\n",
       ".list-inline {list-style: none; margin:0; padding: 0}\n",
       ".list-inline>li {display: inline-block}\n",
       ".list-inline>li:not(:last-child)::after {content: \"\\00b7\"; padding: 0 .5ex}\n",
       "</style>\n",
       "<ol class=list-inline><li>1676</li><li>1676</li><li>1680</li><li>1704</li><li>1315</li><li>1315</li></ol>\n"
      ],
      "text/latex": [
       "\\begin{enumerate*}\n",
       "\\item 1676\n",
       "\\item 1676\n",
       "\\item 1680\n",
       "\\item 1704\n",
       "\\item 1315\n",
       "\\item 1315\n",
       "\\end{enumerate*}\n"
      ],
      "text/markdown": [
       "1. 1676\n",
       "2. 1676\n",
       "3. 1680\n",
       "4. 1704\n",
       "5. 1315\n",
       "6. 1315\n",
       "\n",
       "\n"
      ],
      "text/plain": [
       "[1] 1676 1676 1680 1704 1315 1315"
      ]
     },
     "metadata": {},
     "output_type": "display_data"
    },
    {
     "data": {
      "text/html": [
       "<style>\n",
       ".list-inline {list-style: none; margin:0; padding: 0}\n",
       ".list-inline>li {display: inline-block}\n",
       ".list-inline>li:not(:last-child)::after {content: \"\\00b7\"; padding: 0 .5ex}\n",
       "</style>\n",
       "<ol class=list-inline><li>2015</li><li>2015</li><li>2015</li><li>2015</li><li>2014</li><li>2014</li></ol>\n"
      ],
      "text/latex": [
       "\\begin{enumerate*}\n",
       "\\item 2015\n",
       "\\item 2015\n",
       "\\item 2015\n",
       "\\item 2015\n",
       "\\item 2014\n",
       "\\item 2014\n",
       "\\end{enumerate*}\n"
      ],
      "text/markdown": [
       "1. 2015\n",
       "2. 2015\n",
       "3. 2015\n",
       "4. 2015\n",
       "5. 2014\n",
       "6. 2014\n",
       "\n",
       "\n"
      ],
      "text/plain": [
       "[1] 2015 2015 2015 2015 2014 2014"
      ]
     },
     "metadata": {},
     "output_type": "display_data"
    },
    {
     "data": {
      "text/html": [
       "<style>\n",
       ".list-inline {list-style: none; margin:0; padding: 0}\n",
       ".list-inline>li {display: inline-block}\n",
       ".list-inline>li:not(:last-child)::after {content: \"\\00b7\"; padding: 0 .5ex}\n",
       "</style>\n",
       "<ol class=list-inline><li>'70%'</li><li>'70%'</li><li>'70%'</li><li>'70%'</li><li>'70%'</li><li>'70%'</li></ol>\n"
      ],
      "text/latex": [
       "\\begin{enumerate*}\n",
       "\\item '70\\%'\n",
       "\\item '70\\%'\n",
       "\\item '70\\%'\n",
       "\\item '70\\%'\n",
       "\\item '70\\%'\n",
       "\\item '70\\%'\n",
       "\\end{enumerate*}\n"
      ],
      "text/markdown": [
       "1. '70%'\n",
       "2. '70%'\n",
       "3. '70%'\n",
       "4. '70%'\n",
       "5. '70%'\n",
       "6. '70%'\n",
       "\n",
       "\n"
      ],
      "text/plain": [
       "[1] \"70%\" \"70%\" \"70%\" \"70%\" \"70%\" \"70%\""
      ]
     },
     "metadata": {},
     "output_type": "display_data"
    }
   ],
   "source": [
    "#print the first few values from the column named \"Rating\" in the dataframe \"chocolateData\" \n",
    "head(chocolateData$Rating)\n",
    "\n",
    "head(chocolateData$REF)\n",
    "\n",
    "head(chocolateData$Review_Date)\n",
    "\n",
    "head(chocolateData$Cocoa_Percent)"
   ]
  },
  {
   "cell_type": "code",
   "execution_count": 34,
   "metadata": {
    "_cell_guid": "be92ef3a-fd8a-4fbf-9394-0a6182495140",
    "_uuid": "33e4b4fef60219a671da65b042b36686a19886b8",
    "execution": {
     "iopub.execute_input": "2025-07-08T04:12:12.475288Z",
     "iopub.status.busy": "2025-07-08T04:12:12.473336Z",
     "iopub.status.idle": "2025-07-08T04:12:12.507530Z",
     "shell.execute_reply": "2025-07-08T04:12:12.505532Z"
    },
    "trusted": true,
    "vscode": {
     "languageId": "r"
    }
   },
   "outputs": [
    {
     "name": "stderr",
     "output_type": "stream",
     "text": [
      "\n",
      "\u001b[36m──\u001b[39m \u001b[1mColumn specification\u001b[22m \u001b[36m────────────────────────────────────────────────────────\u001b[39m\n",
      "cols(\n",
      "  `Company _(Maker-if_known)` = \u001b[31mcol_character()\u001b[39m,\n",
      "  Specific_Bean_Origin_or_Bar_Name = \u001b[31mcol_character()\u001b[39m,\n",
      "  Cocoa_Percent = \u001b[31mcol_character()\u001b[39m,\n",
      "  Company_Location = \u001b[31mcol_character()\u001b[39m,\n",
      "  Bean_Type = \u001b[31mcol_character()\u001b[39m,\n",
      "  Broad_Bean_Origin = \u001b[31mcol_character()\u001b[39m\n",
      ")\n",
      "\n"
     ]
    }
   ],
   "source": [
    "# automatically convert the data types of our data_frame\n",
    "chocolateData <- type_convert(chocolateData)"
   ]
  },
  {
   "cell_type": "code",
   "execution_count": null,
   "metadata": {
    "_cell_guid": "9e6ba6b0-8dcb-412d-a362-53863d6c407a",
    "_uuid": "2d99fffd8e53290a9393155b7d4db4ac376f542a",
    "execution": {
     "iopub.execute_input": "2025-07-08T04:12:16.290858Z",
     "iopub.status.busy": "2025-07-08T04:12:16.289070Z",
     "iopub.status.idle": "2025-07-08T04:12:16.315607Z",
     "shell.execute_reply": "2025-07-08T04:12:16.312970Z"
    },
    "trusted": true,
    "vscode": {
     "languageId": "r"
    }
   },
   "outputs": [
    {
     "name": "stdout",
     "output_type": "stream",
     "text": [
      "tibble [1,794 × 9] (S3: tbl_df/tbl/data.frame)\n",
      " $ Company _(Maker-if_known)       : chr [1:1794] \"A. Morin\" \"A. Morin\" \"A. Morin\" \"A. Morin\" ...\n",
      " $ Specific_Bean_Origin_or_Bar_Name: chr [1:1794] \"Kpime\" \"Atsane\" \"Akata\" \"Quilla\" ...\n",
      " $ REF                             : num [1:1794] 1676 1676 1680 1704 1315 ...\n",
      " $ Review_Date                     : num [1:1794] 2015 2015 2015 2015 2014 ...\n",
      " $ Cocoa_Percent                   : chr [1:1794] \"70%\" \"70%\" \"70%\" \"70%\" ...\n",
      " $ Company_Location                : chr [1:1794] \"France\" \"France\" \"France\" \"France\" ...\n",
      " $ Rating                          : num [1:1794] 2.75 3 3.5 3.5 2.75 3.5 3.5 3.75 4 2.75 ...\n",
      " $ Bean_Type                       : chr [1:1794] \" \" \" \" \" \" \" \" ...\n",
      " $ Broad_Bean_Origin               : chr [1:1794] \"Togo\" \"Togo\" \"Togo\" \"Peru\" ...\n"
     ]
    }
   ],
   "source": [
    "# Check out the structure of the converted data using the str() function.\n",
    "# Review column's data type.\n",
    "str(chocolateData)"
   ]
  },
  {
   "cell_type": "code",
   "execution_count": null,
   "metadata": {
    "_cell_guid": "f1994830-6dc2-4b8d-ab3a-4cdf9518a32f",
    "_uuid": "320a28421d1ba20ef0a40bff7a61a0caacfe95f9",
    "execution": {
     "iopub.execute_input": "2025-07-08T04:12:44.153878Z",
     "iopub.status.busy": "2025-07-08T04:12:44.152261Z",
     "iopub.status.idle": "2025-07-08T04:12:44.209204Z",
     "shell.execute_reply": "2025-07-08T04:12:44.206949Z"
    },
    "trusted": true,
    "vscode": {
     "languageId": "r"
    }
   },
   "outputs": [
    {
     "name": "stderr",
     "output_type": "stream",
     "text": [
      "\n",
      "\u001b[36m──\u001b[39m \u001b[1mColumn specification\u001b[22m \u001b[36m────────────────────────────────────────────────────────\u001b[39m\n",
      "cols(\n",
      "  `Company _(Maker-if_known)` = \u001b[31mcol_character()\u001b[39m,\n",
      "  Specific_Bean_Origin_or_Bar_Name = \u001b[31mcol_character()\u001b[39m,\n",
      "  Cocoa_Percent = \u001b[32mcol_double()\u001b[39m,\n",
      "  Company_Location = \u001b[31mcol_character()\u001b[39m,\n",
      "  Bean_Type = \u001b[31mcol_character()\u001b[39m,\n",
      "  Broad_Bean_Origin = \u001b[31mcol_character()\u001b[39m\n",
      ")\n",
      "\n"
     ]
    },
    {
     "name": "stdout",
     "output_type": "stream",
     "text": [
      "tibble [1,794 × 9] (S3: tbl_df/tbl/data.frame)\n",
      " $ Company _(Maker-if_known)       : chr [1:1794] \"A. Morin\" \"A. Morin\" \"A. Morin\" \"A. Morin\" ...\n",
      " $ Specific_Bean_Origin_or_Bar_Name: chr [1:1794] \"Kpime\" \"Atsane\" \"Akata\" \"Quilla\" ...\n",
      " $ REF                             : num [1:1794] 1676 1676 1680 1704 1315 ...\n",
      " $ Review_Date                     : num [1:1794] 2015 2015 2015 2015 2014 ...\n",
      " $ Cocoa_Percent                   : num [1:1794] 70 70 70 70 70 70 70 70 70 70 ...\n",
      " $ Company_Location                : chr [1:1794] \"France\" \"France\" \"France\" \"France\" ...\n",
      " $ Rating                          : num [1:1794] 2.75 3 3.5 3.5 2.75 3.5 3.5 3.75 4 2.75 ...\n",
      " $ Bean_Type                       : chr [1:1794] \" \" \" \" \" \" \" \" ...\n",
      " $ Broad_Bean_Origin               : chr [1:1794] \"Togo\" \"Togo\" \"Togo\" \"Peru\" ...\n"
     ]
    }
   ],
   "source": [
    "# remove all the percent signs in the fifth column.\n",
    "chocolateData$Cocoa_Percent <- sapply(chocolateData$Cocoa_Percent, function(x) gsub(\"%\", \"\", x))\n",
    "\n",
    "# try the type_convert() function agian\n",
    "chocolateData <- type_convert(chocolateData)\n",
    "\n",
    "# check the structure to make sure it actually is a percent\n",
    "str(chocolateData)"
   ]
  },
  {
   "cell_type": "markdown",
   "metadata": {
    "_cell_guid": "1941ef9c-6953-4bdd-a689-7171de395b6a",
    "_uuid": "3d853a2d31ea43345fc673ee36ddb5fc0a417020"
   },
   "source": [
    "> As the joke goes: “80 percent of data science is preparing data, and the other 20 percent is complaining about preparing data.”"
   ]
  },
  {
   "cell_type": "markdown",
   "metadata": {
    "_cell_guid": "8e63b64a-6789-4bf5-b162-1b107c17adc3",
    "_uuid": "80c589d96190c4ccada9b3cd1b90a1c86de278eb"
   },
   "source": [
    "## Summarizing data"
   ]
  },
  {
   "cell_type": "markdown",
   "metadata": {
    "_cell_guid": "2fd1123b-d6bf-417f-9bb5-fd1f49a79c95",
    "_uuid": "3d8c944d2748823c2e102bb99cb01af84b640b13"
   },
   "source": [
    "Ok, our data is in R and clean. Now let's start summarizing it! There are a couple options for how to do this in R. \n",
    "\n",
    "> One thing you'll learn about R is that there are often multiple ways to do the same thing. This flexibility is really nice once you're comfortable in the language, but I also remember it being very frustrating when I was learning.\n",
    "\n",
    "Let's try two functions. The first, summary() is from base R, while the second, summarise_all(), is part of the Tidyverse. We'll run both and then compare the outputs.\n",
    "\n",
    "You can learn more about any function by looking at the documentation for that function. You can do that in a kernel by running a cell with a question mark in front of the function name, with no parentheses after it. (If you do this for more than one function in the same cell, you'll only see the documentation for the last one.) You can also use a search engine to find more information.\n",
    "\n",
    "> **Protip**: Never feel embarrassed about looking things up. Professional programmers look things up all the time; no one knows everything about every programming language!"
   ]
  },
  {
   "cell_type": "code",
   "execution_count": 37,
   "metadata": {
    "_cell_guid": "83e782a5-87e4-4ff4-af23-80da792ecfe0",
    "_uuid": "fce0016f967765ee564b54abc3004af334879040",
    "execution": {
     "iopub.execute_input": "2025-07-08T04:15:31.405550Z",
     "iopub.status.busy": "2025-07-08T04:15:31.403890Z",
     "iopub.status.idle": "2025-07-08T04:15:31.679192Z",
     "shell.execute_reply": "2025-07-08T04:15:31.676860Z"
    },
    "trusted": true,
    "vscode": {
     "languageId": "r"
    }
   },
   "outputs": [
    {
     "data": {
      "text/html": [
       "\n",
       "<table style=\"width: 100%;\"><tr><td>summary {base}</td><td style=\"text-align: right;\">R Documentation</td></tr></table>\n",
       "\n",
       "<h2>Object Summaries</h2>\n",
       "\n",
       "<h3>Description</h3>\n",
       "\n",
       "<p><code>summary</code> is a generic function used to produce result summaries\n",
       "of the results of various model fitting functions.  The function\n",
       "invokes particular <code>methods</code> which depend on the\n",
       "<code>class</code> of the first argument.\n",
       "</p>\n",
       "\n",
       "\n",
       "<h3>Usage</h3>\n",
       "\n",
       "<pre><code class='language-R'>summary(object, ...)\n",
       "\n",
       "## Default S3 method:\n",
       "summary(object, ..., digits, quantile.type = 7)\n",
       "## S3 method for class 'data.frame'\n",
       "summary(object, maxsum = 7,\n",
       "       digits = max(3, getOption(\"digits\")-3), ...)\n",
       "\n",
       "## S3 method for class 'factor'\n",
       "summary(object, maxsum = 100, ...)\n",
       "\n",
       "## S3 method for class 'matrix'\n",
       "summary(object, ...)\n",
       "\n",
       "## S3 method for class 'summaryDefault'\n",
       "format(x, digits = max(3L, getOption(\"digits\") - 3L), ...)\n",
       " ## S3 method for class 'summaryDefault'\n",
       "print(x, digits = max(3L, getOption(\"digits\") - 3L), ...)\n",
       "</code></pre>\n",
       "\n",
       "\n",
       "<h3>Arguments</h3>\n",
       "\n",
       "<table>\n",
       "<tr><td><code id=\"object\">object</code></td>\n",
       "<td>\n",
       "<p>an object for which a summary is desired.</p>\n",
       "</td></tr>\n",
       "<tr><td><code id=\"x\">x</code></td>\n",
       "<td>\n",
       "<p>a result of the <em>default</em> method of <code>summary()</code>.</p>\n",
       "</td></tr>\n",
       "<tr><td><code id=\"maxsum\">maxsum</code></td>\n",
       "<td>\n",
       "<p>integer, indicating how many levels should be shown for\n",
       "<code>factor</code>s.</p>\n",
       "</td></tr>\n",
       "<tr><td><code id=\"digits\">digits</code></td>\n",
       "<td>\n",
       "<p>integer, used for number formatting with\n",
       "<code>signif()</code> (for <code>summary.default</code>) or\n",
       "<code>format()</code> (for <code>summary.data.frame</code>).  In\n",
       "<code>summary.default</code>, if not specified (i.e.,\n",
       "<code>missing(.)</code>), <code>signif()</code> will <em>not</em> be called\n",
       "anymore (since <span class=\"rlang\"><b>R</b></span> &gt;= 3.4.0, where the default has been changed to\n",
       "only round in the <code>print</code> and <code>format</code> methods).</p>\n",
       "</td></tr>\n",
       "<tr><td><code id=\"quantile.type\">quantile.type</code></td>\n",
       "<td>\n",
       "<p>integer code used in <code>quantile(*, type=quantile.type)</code>\n",
       "for the default method.</p>\n",
       "</td></tr>\n",
       "<tr><td><code id=\"...\">...</code></td>\n",
       "<td>\n",
       "<p>additional arguments affecting the summary produced.</p>\n",
       "</td></tr>\n",
       "</table>\n",
       "\n",
       "\n",
       "<h3>Details</h3>\n",
       "\n",
       "<p>For <code>factor</code>s, the frequency of the first <code>maxsum - 1</code>\n",
       "most frequent levels is shown, and the less frequent levels are\n",
       "summarized in <code>\"(Others)\"</code> (resulting in at most <code>maxsum</code>\n",
       "frequencies).\n",
       "</p>\n",
       "<p>The functions <code>summary.lm</code> and <code>summary.glm</code> are examples\n",
       "of particular methods which summarize the results produced by\n",
       "<code>lm</code> and <code>glm</code>.\n",
       "</p>\n",
       "\n",
       "\n",
       "<h3>Value</h3>\n",
       "\n",
       "<p>The form of the value returned by <code>summary</code> depends on the\n",
       "class of its argument.  See the documentation of the particular\n",
       "methods for details of what is produced by that method.\n",
       "</p>\n",
       "<p>The default method returns an object of class\n",
       "<code>c(\"summaryDefault\", \"table\")</code> which has specialized\n",
       "<code>format</code> and <code>print</code> methods.  The\n",
       "<code>factor</code> method returns an integer vector.\n",
       "</p>\n",
       "<p>The matrix and data frame methods return a matrix of class\n",
       "<code>\"table\"</code>, obtained by applying <code>summary</code> to each\n",
       "column and collating the results.\n",
       "</p>\n",
       "\n",
       "\n",
       "<h3>References</h3>\n",
       "\n",
       "<p>Chambers, J. M. and Hastie, T. J. (1992)\n",
       "<em>Statistical Models in S</em>.\n",
       "Wadsworth &amp; Brooks/Cole.\n",
       "</p>\n",
       "\n",
       "\n",
       "<h3>See Also</h3>\n",
       "\n",
       "<p><code>anova</code>,\n",
       "<code>summary.glm</code>,\n",
       "<code>summary.lm</code>.\n",
       "</p>\n",
       "\n",
       "\n",
       "<h3>Examples</h3>\n",
       "\n",
       "<pre><code class='language-R'>summary(attenu, digits = 4) #-&gt; summary.data.frame(...), default precision\n",
       "summary(attenu $ station, maxsum = 20) #-&gt; summary.factor(...)\n",
       "\n",
       "lst &lt;- unclass(attenu$station) &gt; 20 # logical with NAs\n",
       "## summary.default() for logicals -- different from *.factor:\n",
       "summary(lst)\n",
       "summary(as.factor(lst))\n",
       "</code></pre>\n",
       "\n",
       "<hr /><div style=\"text-align: center;\">[Package <em>base</em> version 4.4.0 ]</div></main>\n",
       "\n",
       "</div>"
      ],
      "text/latex": [
       "\\inputencoding{utf8}\n",
       "\\HeaderA{summary}{Object Summaries}{summary}\n",
       "\\aliasA{format.summaryDefault}{summary}{format.summaryDefault}\n",
       "\\aliasA{print.summaryDefault}{summary}{print.summaryDefault}\n",
       "\\methaliasA{summary.data.frame}{summary}{summary.data.frame}\n",
       "\\methaliasA{summary.default}{summary}{summary.default}\n",
       "\\methaliasA{summary.factor}{summary}{summary.factor}\n",
       "\\methaliasA{summary.matrix}{summary}{summary.matrix}\n",
       "\\keyword{methods}{summary}\n",
       "%\n",
       "\\begin{Description}\n",
       "\\code{summary} is a generic function used to produce result summaries\n",
       "of the results of various model fitting functions.  The function\n",
       "invokes particular \\code{\\LinkA{methods}{methods}} which depend on the\n",
       "\\code{\\LinkA{class}{class}} of the first argument.\n",
       "\\end{Description}\n",
       "%\n",
       "\\begin{Usage}\n",
       "\\begin{verbatim}\n",
       "summary(object, ...)\n",
       "\n",
       "## Default S3 method:\n",
       "summary(object, ..., digits, quantile.type = 7)\n",
       "## S3 method for class 'data.frame'\n",
       "summary(object, maxsum = 7,\n",
       "       digits = max(3, getOption(\"digits\")-3), ...)\n",
       "\n",
       "## S3 method for class 'factor'\n",
       "summary(object, maxsum = 100, ...)\n",
       "\n",
       "## S3 method for class 'matrix'\n",
       "summary(object, ...)\n",
       "\n",
       "## S3 method for class 'summaryDefault'\n",
       "format(x, digits = max(3L, getOption(\"digits\") - 3L), ...)\n",
       " ## S3 method for class 'summaryDefault'\n",
       "print(x, digits = max(3L, getOption(\"digits\") - 3L), ...)\n",
       "\\end{verbatim}\n",
       "\\end{Usage}\n",
       "%\n",
       "\\begin{Arguments}\n",
       "\\begin{ldescription}\n",
       "\\item[\\code{object}] an object for which a summary is desired.\n",
       "\\item[\\code{x}] a result of the \\emph{default} method of \\code{summary()}.\n",
       "\\item[\\code{maxsum}] integer, indicating how many levels should be shown for\n",
       "\\code{\\LinkA{factor}{factor}}s.\n",
       "\\item[\\code{digits}] integer, used for number formatting with\n",
       "\\code{\\LinkA{signif}{signif}()} (for \\code{summary.default}) or\n",
       "\\code{\\LinkA{format}{format}()} (for \\code{summary.data.frame}).  In\n",
       "\\code{summary.default}, if not specified (i.e.,\n",
       "\\code{\\LinkA{missing}{missing}(.)}), \\code{signif()} will \\emph{not} be called\n",
       "anymore (since \\R{} >= 3.4.0, where the default has been changed to\n",
       "only round in the \\code{print} and \\code{format} methods).\n",
       "\\item[\\code{quantile.type}] integer code used in \\code{quantile(*, type=quantile.type)}\n",
       "for the default method.\n",
       "\\item[\\code{...}] additional arguments affecting the summary produced.\n",
       "\\end{ldescription}\n",
       "\\end{Arguments}\n",
       "%\n",
       "\\begin{Details}\n",
       "For \\code{\\LinkA{factor}{factor}}s, the frequency of the first \\code{maxsum - 1}\n",
       "most frequent levels is shown, and the less frequent levels are\n",
       "summarized in \\code{\"(Others)\"} (resulting in at most \\code{maxsum}\n",
       "frequencies).\n",
       "\n",
       "The functions \\code{summary.lm} and \\code{summary.glm} are examples\n",
       "of particular methods which summarize the results produced by\n",
       "\\code{\\LinkA{lm}{lm}} and \\code{\\LinkA{glm}{glm}}.\n",
       "\\end{Details}\n",
       "%\n",
       "\\begin{Value}\n",
       "The form of the value returned by \\code{summary} depends on the\n",
       "class of its argument.  See the documentation of the particular\n",
       "methods for details of what is produced by that method.\n",
       "\n",
       "The default method returns an object of class\n",
       "\\code{c(\"summaryDefault\", \"\\LinkA{table}{table}\")} which has specialized\n",
       "\\code{\\LinkA{format}{format}} and \\code{\\LinkA{print}{print}} methods.  The\n",
       "\\code{\\LinkA{factor}{factor}} method returns an integer vector.\n",
       "\n",
       "The matrix and data frame methods return a matrix of class\n",
       "\\code{\"\\LinkA{table}{table}\"}, obtained by applying \\code{summary} to each\n",
       "column and collating the results.\n",
       "\\end{Value}\n",
       "%\n",
       "\\begin{References}\n",
       "Chambers, J. M. and Hastie, T. J. (1992)\n",
       "\\emph{Statistical Models in S}.\n",
       "Wadsworth \\& Brooks/Cole.\n",
       "\\end{References}\n",
       "%\n",
       "\\begin{SeeAlso}\n",
       "\\code{\\LinkA{anova}{anova}},\n",
       "\\code{\\LinkA{summary.glm}{summary.glm}},\n",
       "\\code{\\LinkA{summary.lm}{summary.lm}}.\n",
       "\\end{SeeAlso}\n",
       "%\n",
       "\\begin{Examples}\n",
       "\\begin{ExampleCode}\n",
       "summary(attenu, digits = 4) #-> summary.data.frame(...), default precision\n",
       "summary(attenu $ station, maxsum = 20) #-> summary.factor(...)\n",
       "\n",
       "lst <- unclass(attenu$station) > 20 # logical with NAs\n",
       "## summary.default() for logicals -- different from *.factor:\n",
       "summary(lst)\n",
       "summary(as.factor(lst))\n",
       "\\end{ExampleCode}\n",
       "\\end{Examples}"
      ],
      "text/plain": [
       "summary                  package:base                  R Documentation\n",
       "\n",
       "_\bO_\bb_\bj_\be_\bc_\bt _\bS_\bu_\bm_\bm_\ba_\br_\bi_\be_\bs\n",
       "\n",
       "_\bD_\be_\bs_\bc_\br_\bi_\bp_\bt_\bi_\bo_\bn:\n",
       "\n",
       "     ‘summary’ is a generic function used to produce result summaries\n",
       "     of the results of various model fitting functions.  The function\n",
       "     invokes particular ‘methods’ which depend on the ‘class’ of the\n",
       "     first argument.\n",
       "\n",
       "_\bU_\bs_\ba_\bg_\be:\n",
       "\n",
       "     summary(object, ...)\n",
       "     \n",
       "     ## Default S3 method:\n",
       "     summary(object, ..., digits, quantile.type = 7)\n",
       "     ## S3 method for class 'data.frame'\n",
       "     summary(object, maxsum = 7,\n",
       "            digits = max(3, getOption(\"digits\")-3), ...)\n",
       "     \n",
       "     ## S3 method for class 'factor'\n",
       "     summary(object, maxsum = 100, ...)\n",
       "     \n",
       "     ## S3 method for class 'matrix'\n",
       "     summary(object, ...)\n",
       "     \n",
       "     ## S3 method for class 'summaryDefault'\n",
       "     format(x, digits = max(3L, getOption(\"digits\") - 3L), ...)\n",
       "      ## S3 method for class 'summaryDefault'\n",
       "     print(x, digits = max(3L, getOption(\"digits\") - 3L), ...)\n",
       "     \n",
       "_\bA_\br_\bg_\bu_\bm_\be_\bn_\bt_\bs:\n",
       "\n",
       "  object: an object for which a summary is desired.\n",
       "\n",
       "       x: a result of the _default_ method of ‘summary()’.\n",
       "\n",
       "  maxsum: integer, indicating how many levels should be shown for\n",
       "          ‘factor’s.\n",
       "\n",
       "  digits: integer, used for number formatting with ‘signif()’ (for\n",
       "          ‘summary.default’) or ‘format()’ (for ‘summary.data.frame’).\n",
       "          In ‘summary.default’, if not specified (i.e., ‘missing(.)’),\n",
       "          ‘signif()’ will _not_ be called anymore (since R >= 3.4.0,\n",
       "          where the default has been changed to only round in the\n",
       "          ‘print’ and ‘format’ methods).\n",
       "\n",
       "quantile.type: integer code used in ‘quantile(*, type=quantile.type)’\n",
       "          for the default method.\n",
       "\n",
       "     ...: additional arguments affecting the summary produced.\n",
       "\n",
       "_\bD_\be_\bt_\ba_\bi_\bl_\bs:\n",
       "\n",
       "     For ‘factor’s, the frequency of the first ‘maxsum - 1’ most\n",
       "     frequent levels is shown, and the less frequent levels are\n",
       "     summarized in ‘\"(Others)\"’ (resulting in at most ‘maxsum’\n",
       "     frequencies).\n",
       "\n",
       "     The functions ‘summary.lm’ and ‘summary.glm’ are examples of\n",
       "     particular methods which summarize the results produced by ‘lm’\n",
       "     and ‘glm’.\n",
       "\n",
       "_\bV_\ba_\bl_\bu_\be:\n",
       "\n",
       "     The form of the value returned by ‘summary’ depends on the class\n",
       "     of its argument.  See the documentation of the particular methods\n",
       "     for details of what is produced by that method.\n",
       "\n",
       "     The default method returns an object of class ‘c(\"summaryDefault\",\n",
       "     \"table\")’ which has specialized ‘format’ and ‘print’ methods.  The\n",
       "     ‘factor’ method returns an integer vector.\n",
       "\n",
       "     The matrix and data frame methods return a matrix of class\n",
       "     ‘\"table\"’, obtained by applying ‘summary’ to each column and\n",
       "     collating the results.\n",
       "\n",
       "_\bR_\be_\bf_\be_\br_\be_\bn_\bc_\be_\bs:\n",
       "\n",
       "     Chambers, J. M. and Hastie, T. J. (1992) _Statistical Models in\n",
       "     S_.  Wadsworth & Brooks/Cole.\n",
       "\n",
       "_\bS_\be_\be _\bA_\bl_\bs_\bo:\n",
       "\n",
       "     ‘anova’, ‘summary.glm’, ‘summary.lm’.\n",
       "\n",
       "_\bE_\bx_\ba_\bm_\bp_\bl_\be_\bs:\n",
       "\n",
       "     summary(attenu, digits = 4) #-> summary.data.frame(...), default precision\n",
       "     summary(attenu $ station, maxsum = 20) #-> summary.factor(...)\n",
       "     \n",
       "     lst <- unclass(attenu$station) > 20 # logical with NAs\n",
       "     ## summary.default() for logicals -- different from *.factor:\n",
       "     summary(lst)\n",
       "     summary(as.factor(lst))\n",
       "     "
      ]
     },
     "metadata": {},
     "output_type": "display_data"
    }
   ],
   "source": [
    "# run this cell to learn more about the summary() function\n",
    "?summary"
   ]
  },
  {
   "cell_type": "code",
   "execution_count": 38,
   "metadata": {
    "_cell_guid": "f58dcc1d-aad1-435c-af23-bb6d461feab4",
    "_uuid": "603d98408ae4ea990d7aa06a146e5c73c82d12fa",
    "execution": {
     "iopub.execute_input": "2025-07-08T04:16:58.512765Z",
     "iopub.status.busy": "2025-07-08T04:16:58.510248Z",
     "iopub.status.idle": "2025-07-08T04:16:58.693749Z",
     "shell.execute_reply": "2025-07-08T04:16:58.690608Z"
    },
    "trusted": true,
    "vscode": {
     "languageId": "r"
    }
   },
   "outputs": [
    {
     "data": {
      "text/html": [
       "\n",
       "<table style=\"width: 100%;\"><tr><td>summarise_all {dplyr}</td><td style=\"text-align: right;\">R Documentation</td></tr></table>\n",
       "\n",
       "<h2>Summarise multiple columns</h2>\n",
       "\n",
       "<h3>Description</h3>\n",
       "\n",
       "<p><a href=\"https://lifecycle.r-lib.org/articles/stages.html#superseded\"><img src=\"../help/figures/lifecycle-superseded.svg\" alt='[Superseded]' /></a>\n",
       "</p>\n",
       "<p>Scoped verbs (<code style=\"white-space: pre;\">&#8288;_if&#8288;</code>, <code style=\"white-space: pre;\">&#8288;_at&#8288;</code>, <code style=\"white-space: pre;\">&#8288;_all&#8288;</code>) have been superseded by the use of\n",
       "<code>pick()</code> or <code>across()</code> in an existing verb. See <code>vignette(\"colwise\")</code> for\n",
       "details.\n",
       "</p>\n",
       "<p>The scoped variants of <code>summarise()</code> make it easy to apply the same\n",
       "transformation to multiple variables.\n",
       "There are three variants.\n",
       "</p>\n",
       "\n",
       "<ul>\n",
       "<li> <p><code>summarise_all()</code> affects every variable\n",
       "</p>\n",
       "</li>\n",
       "<li> <p><code>summarise_at()</code> affects variables selected with a character vector or\n",
       "vars()\n",
       "</p>\n",
       "</li>\n",
       "<li> <p><code>summarise_if()</code> affects variables selected with a predicate function\n",
       "</p>\n",
       "</li></ul>\n",
       "\n",
       "\n",
       "\n",
       "<h3>Usage</h3>\n",
       "\n",
       "<pre><code class='language-R'>summarise_all(.tbl, .funs, ...)\n",
       "\n",
       "summarise_if(.tbl, .predicate, .funs, ...)\n",
       "\n",
       "summarise_at(.tbl, .vars, .funs, ..., .cols = NULL)\n",
       "\n",
       "summarize_all(.tbl, .funs, ...)\n",
       "\n",
       "summarize_if(.tbl, .predicate, .funs, ...)\n",
       "\n",
       "summarize_at(.tbl, .vars, .funs, ..., .cols = NULL)\n",
       "</code></pre>\n",
       "\n",
       "\n",
       "<h3>Arguments</h3>\n",
       "\n",
       "<table>\n",
       "<tr><td><code id=\".tbl\">.tbl</code></td>\n",
       "<td>\n",
       "<p>A <code>tbl</code> object.</p>\n",
       "</td></tr>\n",
       "<tr><td><code id=\".funs\">.funs</code></td>\n",
       "<td>\n",
       "<p>A function <code>fun</code>, a quosure style lambda <code>~ fun(.)</code> or a list of either form.</p>\n",
       "</td></tr>\n",
       "<tr><td><code id=\"...\">...</code></td>\n",
       "<td>\n",
       "<p>Additional arguments for the function calls in\n",
       "<code>.funs</code>. These are evaluated only once, with tidy dots support.</p>\n",
       "</td></tr>\n",
       "<tr><td><code id=\".predicate\">.predicate</code></td>\n",
       "<td>\n",
       "<p>A predicate function to be applied to the columns\n",
       "or a logical vector. The variables for which <code>.predicate</code> is or\n",
       "returns <code>TRUE</code> are selected. This argument is passed to\n",
       "<code>rlang::as_function()</code> and thus supports quosure-style lambda\n",
       "functions and strings representing function names.</p>\n",
       "</td></tr>\n",
       "<tr><td><code id=\".vars\">.vars</code></td>\n",
       "<td>\n",
       "<p>A list of columns generated by <code>vars()</code>,\n",
       "a character vector of column names, a numeric vector of column\n",
       "positions, or <code>NULL</code>.</p>\n",
       "</td></tr>\n",
       "<tr><td><code id=\".cols\">.cols</code></td>\n",
       "<td>\n",
       "<p>This argument has been renamed to <code>.vars</code> to fit\n",
       "dplyr's terminology and is deprecated.</p>\n",
       "</td></tr>\n",
       "</table>\n",
       "\n",
       "\n",
       "<h3>Value</h3>\n",
       "\n",
       "<p>A data frame. By default, the newly created columns have the shortest\n",
       "names needed to uniquely identify the output. To force inclusion of a name,\n",
       "even when not needed, name the input (see examples for details).\n",
       "</p>\n",
       "\n",
       "\n",
       "<h3>Grouping variables</h3>\n",
       "\n",
       "<p>If applied on a grouped tibble, these operations are <em>not</em> applied\n",
       "to the grouping variables. The behaviour depends on whether the\n",
       "selection is <strong>implicit</strong> (<code>all</code> and <code>if</code> selections) or\n",
       "<strong>explicit</strong> (<code>at</code> selections).\n",
       "</p>\n",
       "\n",
       "<ul>\n",
       "<li><p> Grouping variables covered by explicit selections in\n",
       "<code>summarise_at()</code> are always an error. Add <code>-group_cols()</code> to the\n",
       "<code>vars()</code> selection to avoid this:\n",
       "</p>\n",
       "<div class=\"sourceCode\"><pre>data %&gt;%\n",
       "  summarise_at(vars(-group_cols(), ...), myoperation)\n",
       "</pre></div>\n",
       "<p>Or remove <code>group_vars()</code> from the character vector of column names:\n",
       "</p>\n",
       "<div class=\"sourceCode\"><pre>nms &lt;- setdiff(nms, group_vars(data))\n",
       "data %&gt;% summarise_at(nms, myoperation)\n",
       "</pre></div>\n",
       "</li>\n",
       "<li><p> Grouping variables covered by implicit selections are silently\n",
       "ignored by <code>summarise_all()</code> and <code>summarise_if()</code>.\n",
       "</p>\n",
       "</li></ul>\n",
       "\n",
       "\n",
       "\n",
       "<h3>Naming</h3>\n",
       "\n",
       "<p>The names of the new columns are derived from the names of the\n",
       "input variables and the names of the functions.\n",
       "</p>\n",
       "\n",
       "<ul>\n",
       "<li><p> if there is only one unnamed function (i.e. if <code>.funs</code> is an unnamed list\n",
       "of length one),\n",
       "the names of the input variables are used to name the new columns;\n",
       "</p>\n",
       "</li>\n",
       "<li><p> for <code style=\"white-space: pre;\">&#8288;_at&#8288;</code> functions, if there is only one unnamed variable (i.e.,\n",
       "if <code>.vars</code> is of the form <code>vars(a_single_column)</code>) and <code>.funs</code> has length\n",
       "greater than one,\n",
       "the names of the functions are used to name the new columns;\n",
       "</p>\n",
       "</li>\n",
       "<li><p> otherwise, the new names are created by\n",
       "concatenating the names of the input variables and the names of the\n",
       "functions, separated with an underscore <code>\"_\"</code>.\n",
       "</p>\n",
       "</li></ul>\n",
       "\n",
       "<p>The <code>.funs</code> argument can be a named or unnamed list.\n",
       "If a function is unnamed and the name cannot be derived automatically,\n",
       "a name of the form &quot;fn#&quot; is used.\n",
       "Similarly, <code>vars()</code> accepts named and unnamed arguments.\n",
       "If a variable in <code>.vars</code> is named, a new column by that name will be created.\n",
       "</p>\n",
       "<p>Name collisions in the new columns are disambiguated using a unique suffix.\n",
       "</p>\n",
       "\n",
       "\n",
       "<h3>See Also</h3>\n",
       "\n",
       "<p>The other scoped verbs, <code>vars()</code>\n",
       "</p>\n",
       "\n",
       "\n",
       "<h3>Examples</h3>\n",
       "\n",
       "<pre><code class='language-R'># The _at() variants directly support strings:\n",
       "starwars %&gt;%\n",
       "  summarise_at(c(\"height\", \"mass\"), mean, na.rm = TRUE)\n",
       "# -&gt;\n",
       "starwars %&gt;% summarise(across(c(\"height\", \"mass\"), ~ mean(.x, na.rm = TRUE)))\n",
       "\n",
       "# You can also supply selection helpers to _at() functions but you have\n",
       "# to quote them with vars():\n",
       "starwars %&gt;%\n",
       "  summarise_at(vars(height:mass), mean, na.rm = TRUE)\n",
       "# -&gt;\n",
       "starwars %&gt;%\n",
       "  summarise(across(height:mass, ~ mean(.x, na.rm = TRUE)))\n",
       "\n",
       "# The _if() variants apply a predicate function (a function that\n",
       "# returns TRUE or FALSE) to determine the relevant subset of\n",
       "# columns. Here we apply mean() to the numeric columns:\n",
       "starwars %&gt;%\n",
       "  summarise_if(is.numeric, mean, na.rm = TRUE)\n",
       "starwars %&gt;%\n",
       "  summarise(across(where(is.numeric), ~ mean(.x, na.rm = TRUE)))\n",
       "\n",
       "by_species &lt;- iris %&gt;%\n",
       "  group_by(Species)\n",
       "\n",
       "# If you want to apply multiple transformations, pass a list of\n",
       "# functions. When there are multiple functions, they create new\n",
       "# variables instead of modifying the variables in place:\n",
       "by_species %&gt;%\n",
       "  summarise_all(list(min, max))\n",
       "# -&gt;\n",
       "by_species %&gt;%\n",
       "  summarise(across(everything(), list(min = min, max = max)))\n",
       "</code></pre>\n",
       "\n",
       "<hr /><div style=\"text-align: center;\">[Package <em>dplyr</em> version 1.1.4 ]</div></main>\n",
       "\n",
       "</div>"
      ],
      "text/latex": [
       "\\inputencoding{utf8}\n",
       "\\HeaderA{summarise\\_all}{Summarise multiple columns}{summarise.Rul.all}\n",
       "\\aliasA{summarise\\_at}{summarise\\_all}{summarise.Rul.at}\n",
       "\\aliasA{summarise\\_if}{summarise\\_all}{summarise.Rul.if}\n",
       "\\aliasA{summarize\\_all}{summarise\\_all}{summarize.Rul.all}\n",
       "\\aliasA{summarize\\_at}{summarise\\_all}{summarize.Rul.at}\n",
       "\\aliasA{summarize\\_if}{summarise\\_all}{summarize.Rul.if}\n",
       "\\keyword{internal}{summarise\\_all}\n",
       "%\n",
       "\\begin{Description}\n",
       "\\strong{[Superseded]}\n",
       "\n",
       "Scoped verbs (\\AsIs{\\texttt{\\_if}}, \\AsIs{\\texttt{\\_at}}, \\AsIs{\\texttt{\\_all}}) have been superseded by the use of\n",
       "\\code{\\LinkA{pick()}{pick}} or \\code{\\LinkA{across()}{across}} in an existing verb. See \\code{vignette(\"colwise\")} for\n",
       "details.\n",
       "\n",
       "The \\LinkA{scoped}{scoped} variants of \\code{\\LinkA{summarise()}{summarise}} make it easy to apply the same\n",
       "transformation to multiple variables.\n",
       "There are three variants.\n",
       "\\begin{itemize}\n",
       "\n",
       "\\item{} \\code{summarise\\_all()} affects every variable\n",
       "\\item{} \\code{summarise\\_at()} affects variables selected with a character vector or\n",
       "vars()\n",
       "\\item{} \\code{summarise\\_if()} affects variables selected with a predicate function\n",
       "\n",
       "\\end{itemize}\n",
       "\n",
       "\\end{Description}\n",
       "%\n",
       "\\begin{Usage}\n",
       "\\begin{verbatim}\n",
       "summarise_all(.tbl, .funs, ...)\n",
       "\n",
       "summarise_if(.tbl, .predicate, .funs, ...)\n",
       "\n",
       "summarise_at(.tbl, .vars, .funs, ..., .cols = NULL)\n",
       "\n",
       "summarize_all(.tbl, .funs, ...)\n",
       "\n",
       "summarize_if(.tbl, .predicate, .funs, ...)\n",
       "\n",
       "summarize_at(.tbl, .vars, .funs, ..., .cols = NULL)\n",
       "\\end{verbatim}\n",
       "\\end{Usage}\n",
       "%\n",
       "\\begin{Arguments}\n",
       "\\begin{ldescription}\n",
       "\\item[\\code{.tbl}] A \\code{tbl} object.\n",
       "\n",
       "\\item[\\code{.funs}] A function \\code{fun}, a quosure style lambda \\code{\\textasciitilde{} fun(.)} or a list of either form.\n",
       "\n",
       "\\item[\\code{...}] Additional arguments for the function calls in\n",
       "\\code{.funs}. These are evaluated only once, with \\LinkA{tidy dots}{tidy dots} support.\n",
       "\n",
       "\\item[\\code{.predicate}] A predicate function to be applied to the columns\n",
       "or a logical vector. The variables for which \\code{.predicate} is or\n",
       "returns \\code{TRUE} are selected. This argument is passed to\n",
       "\\code{\\LinkA{rlang::as\\_function()}{rlang::as.Rul.function()}} and thus supports quosure-style lambda\n",
       "functions and strings representing function names.\n",
       "\n",
       "\\item[\\code{.vars}] A list of columns generated by \\code{\\LinkA{vars()}{vars}},\n",
       "a character vector of column names, a numeric vector of column\n",
       "positions, or \\code{NULL}.\n",
       "\n",
       "\\item[\\code{.cols}] This argument has been renamed to \\code{.vars} to fit\n",
       "dplyr's terminology and is deprecated.\n",
       "\\end{ldescription}\n",
       "\\end{Arguments}\n",
       "%\n",
       "\\begin{Value}\n",
       "A data frame. By default, the newly created columns have the shortest\n",
       "names needed to uniquely identify the output. To force inclusion of a name,\n",
       "even when not needed, name the input (see examples for details).\n",
       "\\end{Value}\n",
       "%\n",
       "\\begin{Section}{Grouping variables}\n",
       "\n",
       "\n",
       "If applied on a grouped tibble, these operations are \\emph{not} applied\n",
       "to the grouping variables. The behaviour depends on whether the\n",
       "selection is \\strong{implicit} (\\code{all} and \\code{if} selections) or\n",
       "\\strong{explicit} (\\code{at} selections).\n",
       "\\begin{itemize}\n",
       "\n",
       "\\item{} Grouping variables covered by explicit selections in\n",
       "\\code{summarise\\_at()} are always an error. Add \\code{-group\\_cols()} to the\n",
       "\\code{\\LinkA{vars()}{vars}} selection to avoid this:\n",
       "\n",
       "\\begin{alltt}data %>%\n",
       "  summarise_at(vars(-group_cols(), ...), myoperation)\n",
       "\\end{alltt}\n",
       "\n",
       "\n",
       "Or remove \\code{group\\_vars()} from the character vector of column names:\n",
       "\n",
       "\\begin{alltt}nms <- setdiff(nms, group_vars(data))\n",
       "data %>% summarise_at(nms, myoperation)\n",
       "\\end{alltt}\n",
       "\n",
       "\\item{} Grouping variables covered by implicit selections are silently\n",
       "ignored by \\code{summarise\\_all()} and \\code{summarise\\_if()}.\n",
       "\n",
       "\\end{itemize}\n",
       "\n",
       "\\end{Section}\n",
       "%\n",
       "\\begin{Section}{Naming}\n",
       "\n",
       "\n",
       "The names of the new columns are derived from the names of the\n",
       "input variables and the names of the functions.\n",
       "\\begin{itemize}\n",
       "\n",
       "\\item{} if there is only one unnamed function (i.e. if \\code{.funs} is an unnamed list\n",
       "of length one),\n",
       "the names of the input variables are used to name the new columns;\n",
       "\\item{} for \\AsIs{\\texttt{\\_at}} functions, if there is only one unnamed variable (i.e.,\n",
       "if \\code{.vars} is of the form \\code{vars(a\\_single\\_column)}) and \\code{.funs} has length\n",
       "greater than one,\n",
       "the names of the functions are used to name the new columns;\n",
       "\\item{} otherwise, the new names are created by\n",
       "concatenating the names of the input variables and the names of the\n",
       "functions, separated with an underscore \\code{\"\\_\"}.\n",
       "\n",
       "\\end{itemize}\n",
       "\n",
       "\n",
       "The \\code{.funs} argument can be a named or unnamed list.\n",
       "If a function is unnamed and the name cannot be derived automatically,\n",
       "a name of the form \"fn\\#\" is used.\n",
       "Similarly, \\code{\\LinkA{vars()}{vars}} accepts named and unnamed arguments.\n",
       "If a variable in \\code{.vars} is named, a new column by that name will be created.\n",
       "\n",
       "Name collisions in the new columns are disambiguated using a unique suffix.\n",
       "\\end{Section}\n",
       "%\n",
       "\\begin{SeeAlso}\n",
       "\\LinkA{The other scoped verbs}{scoped}, \\code{\\LinkA{vars()}{vars}}\n",
       "\\end{SeeAlso}\n",
       "%\n",
       "\\begin{Examples}\n",
       "\\begin{ExampleCode}\n",
       "# The _at() variants directly support strings:\n",
       "starwars %>%\n",
       "  summarise_at(c(\"height\", \"mass\"), mean, na.rm = TRUE)\n",
       "# ->\n",
       "starwars %>% summarise(across(c(\"height\", \"mass\"), ~ mean(.x, na.rm = TRUE)))\n",
       "\n",
       "# You can also supply selection helpers to _at() functions but you have\n",
       "# to quote them with vars():\n",
       "starwars %>%\n",
       "  summarise_at(vars(height:mass), mean, na.rm = TRUE)\n",
       "# ->\n",
       "starwars %>%\n",
       "  summarise(across(height:mass, ~ mean(.x, na.rm = TRUE)))\n",
       "\n",
       "# The _if() variants apply a predicate function (a function that\n",
       "# returns TRUE or FALSE) to determine the relevant subset of\n",
       "# columns. Here we apply mean() to the numeric columns:\n",
       "starwars %>%\n",
       "  summarise_if(is.numeric, mean, na.rm = TRUE)\n",
       "starwars %>%\n",
       "  summarise(across(where(is.numeric), ~ mean(.x, na.rm = TRUE)))\n",
       "\n",
       "by_species <- iris %>%\n",
       "  group_by(Species)\n",
       "\n",
       "# If you want to apply multiple transformations, pass a list of\n",
       "# functions. When there are multiple functions, they create new\n",
       "# variables instead of modifying the variables in place:\n",
       "by_species %>%\n",
       "  summarise_all(list(min, max))\n",
       "# ->\n",
       "by_species %>%\n",
       "  summarise(across(everything(), list(min = min, max = max)))\n",
       "\\end{ExampleCode}\n",
       "\\end{Examples}"
      ],
      "text/plain": [
       "summarise_all              package:dplyr               R Documentation\n",
       "\n",
       "_\bS_\bu_\bm_\bm_\ba_\br_\bi_\bs_\be _\bm_\bu_\bl_\bt_\bi_\bp_\bl_\be _\bc_\bo_\bl_\bu_\bm_\bn_\bs\n",
       "\n",
       "_\bD_\be_\bs_\bc_\br_\bi_\bp_\bt_\bi_\bo_\bn:\n",
       "\n",
       "     *[Superseded]*\n",
       "\n",
       "     Scoped verbs (_if, _at, _all) have been superseded by the use of\n",
       "     ‘pick()’ or ‘across()’ in an existing verb. See\n",
       "     ‘vignette(\"colwise\")’ for details.\n",
       "\n",
       "     The scoped variants of ‘summarise()’ make it easy to apply the\n",
       "     same transformation to multiple variables. There are three\n",
       "     variants.\n",
       "\n",
       "        • ‘summarise_all()’ affects every variable\n",
       "\n",
       "        • ‘summarise_at()’ affects variables selected with a character\n",
       "          vector or vars()\n",
       "\n",
       "        • ‘summarise_if()’ affects variables selected with a predicate\n",
       "          function\n",
       "\n",
       "_\bU_\bs_\ba_\bg_\be:\n",
       "\n",
       "     summarise_all(.tbl, .funs, ...)\n",
       "     \n",
       "     summarise_if(.tbl, .predicate, .funs, ...)\n",
       "     \n",
       "     summarise_at(.tbl, .vars, .funs, ..., .cols = NULL)\n",
       "     \n",
       "     summarize_all(.tbl, .funs, ...)\n",
       "     \n",
       "     summarize_if(.tbl, .predicate, .funs, ...)\n",
       "     \n",
       "     summarize_at(.tbl, .vars, .funs, ..., .cols = NULL)\n",
       "     \n",
       "_\bA_\br_\bg_\bu_\bm_\be_\bn_\bt_\bs:\n",
       "\n",
       "    .tbl: A ‘tbl’ object.\n",
       "\n",
       "   .funs: A function ‘fun’, a quosure style lambda ‘~ fun(.)’ or a list\n",
       "          of either form.\n",
       "\n",
       "     ...: Additional arguments for the function calls in ‘.funs’. These\n",
       "          are evaluated only once, with tidy dots support.\n",
       "\n",
       ".predicate: A predicate function to be applied to the columns or a\n",
       "          logical vector. The variables for which ‘.predicate’ is or\n",
       "          returns ‘TRUE’ are selected. This argument is passed to\n",
       "          ‘rlang::as_function()’ and thus supports quosure-style lambda\n",
       "          functions and strings representing function names.\n",
       "\n",
       "   .vars: A list of columns generated by ‘vars()’, a character vector\n",
       "          of column names, a numeric vector of column positions, or\n",
       "          ‘NULL’.\n",
       "\n",
       "   .cols: This argument has been renamed to ‘.vars’ to fit dplyr's\n",
       "          terminology and is deprecated.\n",
       "\n",
       "_\bV_\ba_\bl_\bu_\be:\n",
       "\n",
       "     A data frame. By default, the newly created columns have the\n",
       "     shortest names needed to uniquely identify the output. To force\n",
       "     inclusion of a name, even when not needed, name the input (see\n",
       "     examples for details).\n",
       "\n",
       "_\bG_\br_\bo_\bu_\bp_\bi_\bn_\bg _\bv_\ba_\br_\bi_\ba_\bb_\bl_\be_\bs:\n",
       "\n",
       "     If applied on a grouped tibble, these operations are _not_ applied\n",
       "     to the grouping variables. The behaviour depends on whether the\n",
       "     selection is *implicit* (‘all’ and ‘if’ selections) or *explicit*\n",
       "     (‘at’ selections).\n",
       "\n",
       "        • Grouping variables covered by explicit selections in\n",
       "          ‘summarise_at()’ are always an error. Add ‘-group_cols()’ to\n",
       "          the ‘vars()’ selection to avoid this:\n",
       "\n",
       "          data %>%\n",
       "            summarise_at(vars(-group_cols(), ...), myoperation)\n",
       "          \n",
       "          Or remove ‘group_vars()’ from the character vector of column\n",
       "          names:\n",
       "\n",
       "          nms <- setdiff(nms, group_vars(data))\n",
       "          data %>% summarise_at(nms, myoperation)\n",
       "          \n",
       "        • Grouping variables covered by implicit selections are\n",
       "          silently ignored by ‘summarise_all()’ and ‘summarise_if()’.\n",
       "\n",
       "_\bN_\ba_\bm_\bi_\bn_\bg:\n",
       "\n",
       "     The names of the new columns are derived from the names of the\n",
       "     input variables and the names of the functions.\n",
       "\n",
       "        • if there is only one unnamed function (i.e. if ‘.funs’ is an\n",
       "          unnamed list of length one), the names of the input variables\n",
       "          are used to name the new columns;\n",
       "\n",
       "        • for _at functions, if there is only one unnamed variable\n",
       "          (i.e., if ‘.vars’ is of the form ‘vars(a_single_column)’) and\n",
       "          ‘.funs’ has length greater than one, the names of the\n",
       "          functions are used to name the new columns;\n",
       "\n",
       "        • otherwise, the new names are created by concatenating the\n",
       "          names of the input variables and the names of the functions,\n",
       "          separated with an underscore ‘\"_\"’.\n",
       "\n",
       "     The ‘.funs’ argument can be a named or unnamed list. If a function\n",
       "     is unnamed and the name cannot be derived automatically, a name of\n",
       "     the form \"fn#\" is used. Similarly, ‘vars()’ accepts named and\n",
       "     unnamed arguments. If a variable in ‘.vars’ is named, a new column\n",
       "     by that name will be created.\n",
       "\n",
       "     Name collisions in the new columns are disambiguated using a\n",
       "     unique suffix.\n",
       "\n",
       "_\bS_\be_\be _\bA_\bl_\bs_\bo:\n",
       "\n",
       "     The other scoped verbs, ‘vars()’\n",
       "\n",
       "_\bE_\bx_\ba_\bm_\bp_\bl_\be_\bs:\n",
       "\n",
       "     # The _at() variants directly support strings:\n",
       "     starwars %>%\n",
       "       summarise_at(c(\"height\", \"mass\"), mean, na.rm = TRUE)\n",
       "     # ->\n",
       "     starwars %>% summarise(across(c(\"height\", \"mass\"), ~ mean(.x, na.rm = TRUE)))\n",
       "     \n",
       "     # You can also supply selection helpers to _at() functions but you have\n",
       "     # to quote them with vars():\n",
       "     starwars %>%\n",
       "       summarise_at(vars(height:mass), mean, na.rm = TRUE)\n",
       "     # ->\n",
       "     starwars %>%\n",
       "       summarise(across(height:mass, ~ mean(.x, na.rm = TRUE)))\n",
       "     \n",
       "     # The _if() variants apply a predicate function (a function that\n",
       "     # returns TRUE or FALSE) to determine the relevant subset of\n",
       "     # columns. Here we apply mean() to the numeric columns:\n",
       "     starwars %>%\n",
       "       summarise_if(is.numeric, mean, na.rm = TRUE)\n",
       "     starwars %>%\n",
       "       summarise(across(where(is.numeric), ~ mean(.x, na.rm = TRUE)))\n",
       "     \n",
       "     by_species <- iris %>%\n",
       "       group_by(Species)\n",
       "     \n",
       "     # If you want to apply multiple transformations, pass a list of\n",
       "     # functions. When there are multiple functions, they create new\n",
       "     # variables instead of modifying the variables in place:\n",
       "     by_species %>%\n",
       "       summarise_all(list(min, max))\n",
       "     # ->\n",
       "     by_species %>%\n",
       "       summarise(across(everything(), list(min = min, max = max)))\n",
       "     "
      ]
     },
     "metadata": {},
     "output_type": "display_data"
    }
   ],
   "source": [
    "# run this cell to learn more about the summarise_all() function\n",
    "?summarise_all"
   ]
  },
  {
   "cell_type": "code",
   "execution_count": 40,
   "metadata": {
    "_cell_guid": "c7278c90-91ba-4191-a5b3-76bbd6e04487",
    "_uuid": "27d3ae38a0b3630511d204f7db8bbbc5092d97e9",
    "execution": {
     "iopub.execute_input": "2025-07-08T04:18:23.481222Z",
     "iopub.status.busy": "2025-07-08T04:18:23.478960Z",
     "iopub.status.idle": "2025-07-08T04:18:23.557377Z",
     "shell.execute_reply": "2025-07-08T04:18:23.555423Z"
    },
    "trusted": true,
    "vscode": {
     "languageId": "r"
    }
   },
   "outputs": [
    {
     "data": {
      "text/plain": [
       " Company _(Maker-if_known) Specific_Bean_Origin_or_Bar_Name      REF      \n",
       " Length:1794               Length:1794                      Min.   :   5  \n",
       " Class :character          Class :character                 1st Qu.: 576  \n",
       " Mode  :character          Mode  :character                 Median :1069  \n",
       "                                                            Mean   :1035  \n",
       "                                                            3rd Qu.:1502  \n",
       "                                                            Max.   :1952  \n",
       "  Review_Date   Cocoa_Percent   Company_Location       Rating     \n",
       " Min.   :2006   Min.   : 42.0   Length:1794        Min.   :1.000  \n",
       " 1st Qu.:2010   1st Qu.: 70.0   Class :character   1st Qu.:2.812  \n",
       " Median :2013   Median : 70.0   Mode  :character   Median :3.250  \n",
       " Mean   :2012   Mean   : 71.7                      Mean   :3.186  \n",
       " 3rd Qu.:2015   3rd Qu.: 75.0                      3rd Qu.:3.500  \n",
       " Max.   :2017   Max.   :100.0                      Max.   :5.000  \n",
       "  Bean_Type         Broad_Bean_Origin \n",
       " Length:1794        Length:1794       \n",
       " Class :character   Class :character  \n",
       " Mode  :character   Mode  :character  \n",
       "                                      \n",
       "                                      \n",
       "                                      "
      ]
     },
     "metadata": {},
     "output_type": "display_data"
    }
   ],
   "source": [
    "# summary function from base R (base R means no packages)\n",
    "summary(chocolateData)"
   ]
  },
  {
   "cell_type": "code",
   "execution_count": null,
   "metadata": {
    "execution": {
     "iopub.execute_input": "2025-07-08T04:53:47.093619Z",
     "iopub.status.busy": "2025-07-08T04:53:47.092024Z",
     "iopub.status.idle": "2025-07-08T04:53:47.244542Z",
     "shell.execute_reply": "2025-07-08T04:53:47.242839Z"
    },
    "trusted": true,
    "vscode": {
     "languageId": "r"
    }
   },
   "outputs": [
    {
     "name": "stderr",
     "output_type": "stream",
     "text": [
      "Warning message:\n",
      "“\u001b[1m\u001b[22m`funs()` was deprecated in dplyr 0.8.0.\n",
      "\u001b[36mℹ\u001b[39m Please use a list of either functions or lambdas:\n",
      "\n",
      "# Simple named list: list(mean = mean, median = median)\n",
      "\n",
      "# Auto named with `tibble::lst()`: tibble::lst(mean, median)\n",
      "\n",
      "# Using lambdas list(~ mean(., trim = .2), ~ median(., na.rm = TRUE))”\n",
      "Warning message:\n",
      "“\u001b[1m\u001b[22mThere were 5 warnings in `summarise()`.\n",
      "The first warning was:\n",
      "\u001b[1m\u001b[22m\u001b[36mℹ\u001b[39m In argument: `Company _(Maker-if_known) = mean(`Company _(Maker-if_known)`)`.\n",
      "Caused by warning in `mean.default()`:\n",
      "\u001b[33m!\u001b[39m argument is not numeric or logical: returning NA\n",
      "\u001b[1m\u001b[22m\u001b[36mℹ\u001b[39m Run `dplyr::last_dplyr_warnings()` to see the 4 remaining warnings.”\n"
     ]
    },
    {
     "data": {
      "text/html": [
       "<table class=\"dataframe\">\n",
       "<caption>A tibble: 1 × 9</caption>\n",
       "<thead>\n",
       "\t<tr><th scope=col>Company _(Maker-if_known)</th><th scope=col>Specific_Bean_Origin_or_Bar_Name</th><th scope=col>REF</th><th scope=col>Review_Date</th><th scope=col>Cocoa_Percent</th><th scope=col>Company_Location</th><th scope=col>Rating</th><th scope=col>Bean_Type</th><th scope=col>Broad_Bean_Origin</th></tr>\n",
       "\t<tr><th scope=col>&lt;dbl&gt;</th><th scope=col>&lt;dbl&gt;</th><th scope=col>&lt;dbl&gt;</th><th scope=col>&lt;dbl&gt;</th><th scope=col>&lt;dbl&gt;</th><th scope=col>&lt;dbl&gt;</th><th scope=col>&lt;dbl&gt;</th><th scope=col>&lt;dbl&gt;</th><th scope=col>&lt;dbl&gt;</th></tr>\n",
       "</thead>\n",
       "<tbody>\n",
       "\t<tr><td>NA</td><td>NA</td><td>1035.436</td><td>2012.323</td><td>71.70318</td><td>NA</td><td>3.185619</td><td>NA</td><td>NA</td></tr>\n",
       "</tbody>\n",
       "</table>\n"
      ],
      "text/latex": [
       "A tibble: 1 × 9\n",
       "\\begin{tabular}{lllllllll}\n",
       " Company \\_(Maker-if\\_known) & Specific\\_Bean\\_Origin\\_or\\_Bar\\_Name & REF & Review\\_Date & Cocoa\\_Percent & Company\\_Location & Rating & Bean\\_Type & Broad\\_Bean\\_Origin\\\\\n",
       " <dbl> & <dbl> & <dbl> & <dbl> & <dbl> & <dbl> & <dbl> & <dbl> & <dbl>\\\\\n",
       "\\hline\n",
       "\t NA & NA & 1035.436 & 2012.323 & 71.70318 & NA & 3.185619 & NA & NA\\\\\n",
       "\\end{tabular}\n"
      ],
      "text/markdown": [
       "\n",
       "A tibble: 1 × 9\n",
       "\n",
       "| Company _(Maker-if_known) &lt;dbl&gt; | Specific_Bean_Origin_or_Bar_Name &lt;dbl&gt; | REF &lt;dbl&gt; | Review_Date &lt;dbl&gt; | Cocoa_Percent &lt;dbl&gt; | Company_Location &lt;dbl&gt; | Rating &lt;dbl&gt; | Bean_Type &lt;dbl&gt; | Broad_Bean_Origin &lt;dbl&gt; |\n",
       "|---|---|---|---|---|---|---|---|---|\n",
       "| NA | NA | 1035.436 | 2012.323 | 71.70318 | NA | 3.185619 | NA | NA |\n",
       "\n"
      ],
      "text/plain": [
       "  Company _(Maker-if_known) Specific_Bean_Origin_or_Bar_Name REF     \n",
       "1 NA                        NA                               1035.436\n",
       "  Review_Date Cocoa_Percent Company_Location Rating   Bean_Type\n",
       "1 2012.323    71.70318      NA               3.185619 NA       \n",
       "  Broad_Bean_Origin\n",
       "1 NA               "
      ]
     },
     "metadata": {},
     "output_type": "display_data"
    }
   ],
   "source": [
    "# summary function from the Tidyverse (specifically dplyr).\n",
    "# Ask for the average using the function mean()\n",
    "summarise_all(chocolateData, funs(mean))"
   ]
  },
  {
   "cell_type": "code",
   "execution_count": 70,
   "metadata": {
    "execution": {
     "iopub.execute_input": "2025-07-08T05:14:16.478164Z",
     "iopub.status.busy": "2025-07-08T05:14:16.476415Z",
     "iopub.status.idle": "2025-07-08T05:14:16.604167Z",
     "shell.execute_reply": "2025-07-08T05:14:16.602394Z"
    },
    "trusted": true,
    "vscode": {
     "languageId": "r"
    }
   },
   "outputs": [
    {
     "name": "stderr",
     "output_type": "stream",
     "text": [
      "Warning message:\n",
      "“\u001b[1m\u001b[22mThere were 5 warnings in `summarise()`.\n",
      "The first warning was:\n",
      "\u001b[1m\u001b[22m\u001b[36mℹ\u001b[39m In argument: `Company _(Maker-if_known) = (function (x, ...) ...`.\n",
      "Caused by warning in `mean.default()`:\n",
      "\u001b[33m!\u001b[39m argument is not numeric or logical: returning NA\n",
      "\u001b[1m\u001b[22m\u001b[36mℹ\u001b[39m Run `dplyr::last_dplyr_warnings()` to see the 4 remaining warnings.”\n"
     ]
    },
    {
     "data": {
      "text/html": [
       "<table class=\"dataframe\">\n",
       "<caption>A tibble: 1 × 9</caption>\n",
       "<thead>\n",
       "\t<tr><th scope=col>Company _(Maker-if_known)</th><th scope=col>Specific_Bean_Origin_or_Bar_Name</th><th scope=col>REF</th><th scope=col>Review_Date</th><th scope=col>Cocoa_Percent</th><th scope=col>Company_Location</th><th scope=col>Rating</th><th scope=col>Bean_Type</th><th scope=col>Broad_Bean_Origin</th></tr>\n",
       "\t<tr><th scope=col>&lt;dbl&gt;</th><th scope=col>&lt;dbl&gt;</th><th scope=col>&lt;dbl&gt;</th><th scope=col>&lt;dbl&gt;</th><th scope=col>&lt;dbl&gt;</th><th scope=col>&lt;dbl&gt;</th><th scope=col>&lt;dbl&gt;</th><th scope=col>&lt;dbl&gt;</th><th scope=col>&lt;dbl&gt;</th></tr>\n",
       "</thead>\n",
       "<tbody>\n",
       "\t<tr><td>NA</td><td>NA</td><td>1035.436</td><td>2012.323</td><td>71.70318</td><td>NA</td><td>3.185619</td><td>NA</td><td>NA</td></tr>\n",
       "</tbody>\n",
       "</table>\n"
      ],
      "text/latex": [
       "A tibble: 1 × 9\n",
       "\\begin{tabular}{lllllllll}\n",
       " Company \\_(Maker-if\\_known) & Specific\\_Bean\\_Origin\\_or\\_Bar\\_Name & REF & Review\\_Date & Cocoa\\_Percent & Company\\_Location & Rating & Bean\\_Type & Broad\\_Bean\\_Origin\\\\\n",
       " <dbl> & <dbl> & <dbl> & <dbl> & <dbl> & <dbl> & <dbl> & <dbl> & <dbl>\\\\\n",
       "\\hline\n",
       "\t NA & NA & 1035.436 & 2012.323 & 71.70318 & NA & 3.185619 & NA & NA\\\\\n",
       "\\end{tabular}\n"
      ],
      "text/markdown": [
       "\n",
       "A tibble: 1 × 9\n",
       "\n",
       "| Company _(Maker-if_known) &lt;dbl&gt; | Specific_Bean_Origin_or_Bar_Name &lt;dbl&gt; | REF &lt;dbl&gt; | Review_Date &lt;dbl&gt; | Cocoa_Percent &lt;dbl&gt; | Company_Location &lt;dbl&gt; | Rating &lt;dbl&gt; | Bean_Type &lt;dbl&gt; | Broad_Bean_Origin &lt;dbl&gt; |\n",
       "|---|---|---|---|---|---|---|---|---|\n",
       "| NA | NA | 1035.436 | 2012.323 | 71.70318 | NA | 3.185619 | NA | NA |\n",
       "\n"
      ],
      "text/plain": [
       "  Company _(Maker-if_known) Specific_Bean_Origin_or_Bar_Name REF     \n",
       "1 NA                        NA                               1035.436\n",
       "  Review_Date Cocoa_Percent Company_Location Rating   Bean_Type\n",
       "1 2012.323    71.70318      NA               3.185619 NA       \n",
       "  Broad_Bean_Origin\n",
       "1 NA               "
      ]
     },
     "metadata": {},
     "output_type": "display_data"
    }
   ],
   "source": [
    "# fix deprecated: funs\n",
    "summarise_all(chocolateData, mean, na.rm = TRUE)"
   ]
  },
  {
   "cell_type": "code",
   "execution_count": null,
   "metadata": {
    "_cell_guid": "2fe871ba-8ee1-4d29-b615-ca437108fe39",
    "_uuid": "41cbee4f118b347fa92586bbde279cc745a13603",
    "execution": {
     "iopub.execute_input": "2025-07-08T05:25:05.535365Z",
     "iopub.status.busy": "2025-07-08T05:25:05.533377Z",
     "iopub.status.idle": "2025-07-08T05:25:05.572181Z",
     "shell.execute_reply": "2025-07-08T05:25:05.569619Z"
    },
    "trusted": true,
    "vscode": {
     "languageId": "r"
    }
   },
   "outputs": [
    {
     "data": {
      "text/html": [
       "<table class=\"dataframe\">\n",
       "<caption>A tibble: 1 × 4</caption>\n",
       "<thead>\n",
       "\t<tr><th scope=col>REF</th><th scope=col>Review_Date</th><th scope=col>Cocoa_Percent</th><th scope=col>Rating</th></tr>\n",
       "\t<tr><th scope=col>&lt;dbl&gt;</th><th scope=col>&lt;dbl&gt;</th><th scope=col>&lt;dbl&gt;</th><th scope=col>&lt;dbl&gt;</th></tr>\n",
       "</thead>\n",
       "<tbody>\n",
       "\t<tr><td>552.6843</td><td>2.926739</td><td>6.321543</td><td>0.47801</td></tr>\n",
       "</tbody>\n",
       "</table>\n"
      ],
      "text/latex": [
       "A tibble: 1 × 4\n",
       "\\begin{tabular}{llll}\n",
       " REF & Review\\_Date & Cocoa\\_Percent & Rating\\\\\n",
       " <dbl> & <dbl> & <dbl> & <dbl>\\\\\n",
       "\\hline\n",
       "\t 552.6843 & 2.926739 & 6.321543 & 0.47801\\\\\n",
       "\\end{tabular}\n"
      ],
      "text/markdown": [
       "\n",
       "A tibble: 1 × 4\n",
       "\n",
       "| REF &lt;dbl&gt; | Review_Date &lt;dbl&gt; | Cocoa_Percent &lt;dbl&gt; | Rating &lt;dbl&gt; |\n",
       "|---|---|---|---|\n",
       "| 552.6843 | 2.926739 | 6.321543 | 0.47801 |\n",
       "\n"
      ],
      "text/plain": [
       "  REF      Review_Date Cocoa_Percent Rating \n",
       "1 552.6843 2.926739    6.321543      0.47801"
      ]
     },
     "metadata": {},
     "output_type": "display_data"
    }
   ],
   "source": [
    "# Use the summarise_all() function to find the standard deviation of each numeric column.\n",
    "# The function to find the standard deviation is sd()\n",
    "chocolateData %>%\n",
    "  summarise(across(where(is.numeric), ~ sd(.x, na.rm = TRUE)))\n"
   ]
  },
  {
   "cell_type": "markdown",
   "metadata": {
    "_cell_guid": "7efc54a2-e9d2-459e-aa28-b75800a4742d",
    "_uuid": "6a6603668ea4b0d48c74c9aea679acffb47b7fd2"
   },
   "source": [
    "## Summarizing a specific variable"
   ]
  },
  {
   "cell_type": "markdown",
   "metadata": {
    "_cell_guid": "491e3d58-7734-4180-b2bd-8c636c1339e5",
    "_uuid": "8f3c08ebfbfe1f1d71acaa330c0b743409c7ec85"
   },
   "source": [
    "The functions we used above give you an overview of the entire dataset, but often you're only interested in one or two variables. We can look at specific variables really easily using the summarise() function and pipes. Pipes are part of the Tidyverse package we loaded in the beginning: if you try to use them without load in the package, you'll get an error.\n",
    "\n",
    "> A pipe, which looks like this: %>% is a special operator. It takes all the output from the right side and passes it to whatever is on the left side.\n",
    "\n",
    "Let's take our chocolate dataset and then pipe it to the summarise() function. The summarise() function will return a data_frame, where each column contains a specific type of information we've asked for and has a name we've given in. In this example, we're going to get back two columns. One, called \"averageRating\" will have the average of the Rating column in it, while the second, called \"sdRating\" will have the standard deviation of the Rating column in it. "
   ]
  },
  {
   "cell_type": "code",
   "execution_count": 75,
   "metadata": {
    "_cell_guid": "caf7ddb8-30c5-4726-a6bc-1751a7f8a13f",
    "_uuid": "c05960bf031757661d09ff6b9a699e9860e400d4",
    "execution": {
     "iopub.execute_input": "2025-07-08T05:18:24.351832Z",
     "iopub.status.busy": "2025-07-08T05:18:24.350178Z",
     "iopub.status.idle": "2025-07-08T05:18:24.375458Z",
     "shell.execute_reply": "2025-07-08T05:18:24.373707Z"
    },
    "trusted": true,
    "vscode": {
     "languageId": "r"
    }
   },
   "outputs": [
    {
     "data": {
      "text/html": [
       "<table class=\"dataframe\">\n",
       "<caption>A tibble: 1 × 2</caption>\n",
       "<thead>\n",
       "\t<tr><th scope=col>averageRating</th><th scope=col>sdRating</th></tr>\n",
       "\t<tr><th scope=col>&lt;dbl&gt;</th><th scope=col>&lt;dbl&gt;</th></tr>\n",
       "</thead>\n",
       "<tbody>\n",
       "\t<tr><td>3.185619</td><td>0.47801</td></tr>\n",
       "</tbody>\n",
       "</table>\n"
      ],
      "text/latex": [
       "A tibble: 1 × 2\n",
       "\\begin{tabular}{ll}\n",
       " averageRating & sdRating\\\\\n",
       " <dbl> & <dbl>\\\\\n",
       "\\hline\n",
       "\t 3.185619 & 0.47801\\\\\n",
       "\\end{tabular}\n"
      ],
      "text/markdown": [
       "\n",
       "A tibble: 1 × 2\n",
       "\n",
       "| averageRating &lt;dbl&gt; | sdRating &lt;dbl&gt; |\n",
       "|---|---|\n",
       "| 3.185619 | 0.47801 |\n",
       "\n"
      ],
      "text/plain": [
       "  averageRating sdRating\n",
       "1 3.185619      0.47801 "
      ]
     },
     "metadata": {},
     "output_type": "display_data"
    }
   ],
   "source": [
    "# return a data_frame with the mean and sd of the Rating column, from the chocolate\n",
    "# dataset in it\n",
    "chocolateData %>%\n",
    "    summarise(averageRating = mean(Rating),\n",
    "             sdRating = sd(Rating))"
   ]
  },
  {
   "cell_type": "markdown",
   "metadata": {
    "_cell_guid": "eaf42a2e-e68f-4352-81f5-5652903095c3",
    "_uuid": "ab166489b6f9726793e73b7fc880899ba76f4961"
   },
   "source": [
    "> ## Line breaks\n"
   ]
  },
  {
   "cell_type": "code",
   "execution_count": null,
   "metadata": {
    "_cell_guid": "a419e5e2-d32d-4f9b-a7e3-ab303388acab",
    "_uuid": "9f559410ce5888c45d627d14bd6c4e481825b0ee",
    "execution": {
     "iopub.execute_input": "2025-07-08T05:33:26.539260Z",
     "iopub.status.busy": "2025-07-08T05:33:26.537697Z",
     "iopub.status.idle": "2025-07-08T05:33:26.567435Z",
     "shell.execute_reply": "2025-07-08T05:33:26.565485Z"
    },
    "trusted": true,
    "vscode": {
     "languageId": "r"
    }
   },
   "outputs": [
    {
     "data": {
      "text/html": [
       "13"
      ],
      "text/latex": [
       "13"
      ],
      "text/markdown": [
       "13"
      ],
      "text/plain": [
       "[1] 13"
      ]
     },
     "metadata": {},
     "output_type": "display_data"
    },
    {
     "data": {
      "text/html": [
       "13"
      ],
      "text/latex": [
       "13"
      ],
      "text/markdown": [
       "13"
      ],
      "text/plain": [
       "[1] 13"
      ]
     },
     "metadata": {},
     "output_type": "display_data"
    },
    {
     "data": {
      "text/html": [
       "13"
      ],
      "text/latex": [
       "13"
      ],
      "text/markdown": [
       "13"
      ],
      "text/plain": [
       "[1] 13"
      ]
     },
     "metadata": {},
     "output_type": "display_data"
    }
   ],
   "source": [
    "# this is fine! :)\n",
    "mean(c(5,6,25,16))\n",
    "\n",
    "# this is fine! :)\n",
    "mean(c(5,6,\n",
    "       25,16))\n",
    "\n",
    "# this won't break the code, but it's hard to read :(\n",
    "mean(c(5,6,\n",
    "25,16))"
   ]
  },
  {
   "cell_type": "code",
   "execution_count": null,
   "metadata": {
    "execution": {
     "iopub.execute_input": "2025-07-08T05:33:29.508257Z",
     "iopub.status.busy": "2025-07-08T05:33:29.506642Z",
     "iopub.status.idle": "2025-07-08T05:33:29.531687Z",
     "shell.execute_reply": "2025-07-08T05:33:29.528219Z"
    },
    "trusted": true,
    "vscode": {
     "languageId": "r"
    }
   },
   "outputs": [
    {
     "ename": "ERROR",
     "evalue": "Error in parse(text = x, srcfile = src): <text>:3:7: unexpected numeric constant\n2: mean(c(5,6,2\n3:       5\n         ^\n",
     "output_type": "error",
     "traceback": [
      "Error in parse(text = x, srcfile = src): <text>:3:7: unexpected numeric constant\n2: mean(c(5,6,2\n3:       5\n         ^\nTraceback:\n"
     ]
    }
   ],
   "source": [
    "# this will break the code :'(\n",
    "mean(c(5,6,2\n",
    "      5,16))"
   ]
  },
  {
   "cell_type": "code",
   "execution_count": null,
   "metadata": {
    "_cell_guid": "2c5ba6af-4645-4d9d-9a59-ce4c67a82dd7",
    "_uuid": "cb3de78e8434e1bfa1168b2df68d0b7e69e19a37",
    "execution": {
     "iopub.execute_input": "2025-07-08T05:35:05.763519Z",
     "iopub.status.busy": "2025-07-08T05:35:05.761769Z",
     "iopub.status.idle": "2025-07-08T05:35:05.790291Z",
     "shell.execute_reply": "2025-07-08T05:35:05.788138Z"
    },
    "trusted": true,
    "vscode": {
     "languageId": "r"
    }
   },
   "outputs": [
    {
     "data": {
      "text/html": [
       "<table class=\"dataframe\">\n",
       "<caption>A tibble: 1 × 2</caption>\n",
       "<thead>\n",
       "\t<tr><th scope=col>averageCocoa_Percent</th><th scope=col>sdCocoa_Percent</th></tr>\n",
       "\t<tr><th scope=col>&lt;dbl&gt;</th><th scope=col>&lt;dbl&gt;</th></tr>\n",
       "</thead>\n",
       "<tbody>\n",
       "\t<tr><td>71.70318</td><td>6.321543</td></tr>\n",
       "</tbody>\n",
       "</table>\n"
      ],
      "text/latex": [
       "A tibble: 1 × 2\n",
       "\\begin{tabular}{ll}\n",
       " averageCocoa\\_Percent & sdCocoa\\_Percent\\\\\n",
       " <dbl> & <dbl>\\\\\n",
       "\\hline\n",
       "\t 71.70318 & 6.321543\\\\\n",
       "\\end{tabular}\n"
      ],
      "text/markdown": [
       "\n",
       "A tibble: 1 × 2\n",
       "\n",
       "| averageCocoa_Percent &lt;dbl&gt; | sdCocoa_Percent &lt;dbl&gt; |\n",
       "|---|---|\n",
       "| 71.70318 | 6.321543 |\n",
       "\n"
      ],
      "text/plain": [
       "  averageCocoa_Percent sdCocoa_Percent\n",
       "1 71.70318             6.321543       "
      ]
     },
     "metadata": {},
     "output_type": "display_data"
    }
   ],
   "source": [
    "# Use a pipe (%>%) and the summarise() function return a dataframe\n",
    "# with the average and sd of the Cocoa_Percent column.\n",
    "# clear names are the most helpful.\n",
    "chocolateData %>%\n",
    "    summarise(averageCocoa_Percent = mean(Cocoa_Percent),\n",
    "             sdCocoa_Percent = sd(Cocoa_Percent))"
   ]
  },
  {
   "cell_type": "markdown",
   "metadata": {
    "_cell_guid": "a213b61f-2e03-47b8-9c1f-b69d7f6b714e",
    "_uuid": "f731784238476e5474ae129e860bf037e860123c"
   },
   "source": [
    "## Summarize a specific variable by group"
   ]
  },
  {
   "cell_type": "markdown",
   "metadata": {
    "_cell_guid": "e691bd6d-163f-4395-b77a-dd98bd3faed0",
    "_uuid": "0adbbbb91fadc1e389a32ac13b37b34ea4cfc556"
   },
   "source": [
    "At first pass, it may seem a bit silly to do things like calculate the mean and standard deviation this way. You can see why this is such a power technique, however, when we look at the the same variable across groups. \n",
    "\n",
    "We can use this with a hand function called group_by(). When you pipe a dataset into the group_by() function and tell it the name of a specific column, then it will look at all the values in that column and group together all the rows that have the same value in a given column. Then, when you pipe that data into the summarise() function, it will return the values you asked for for each group separately. Like so:"
   ]
  },
  {
   "cell_type": "code",
   "execution_count": 90,
   "metadata": {
    "_cell_guid": "e8df8de7-7a38-48d5-b032-e7d5c0860939",
    "_uuid": "9ccb1d25051915b774e9351b8ff9b76156053e4e",
    "execution": {
     "iopub.execute_input": "2025-07-08T05:38:41.961200Z",
     "iopub.status.busy": "2025-07-08T05:38:41.959394Z",
     "iopub.status.idle": "2025-07-08T05:38:42.007239Z",
     "shell.execute_reply": "2025-07-08T05:38:42.005119Z"
    },
    "trusted": true,
    "vscode": {
     "languageId": "r"
    }
   },
   "outputs": [
    {
     "data": {
      "text/html": [
       "<table class=\"dataframe\">\n",
       "<caption>A tibble: 12 × 3</caption>\n",
       "<thead>\n",
       "\t<tr><th scope=col>Review_Date</th><th scope=col>averageRating</th><th scope=col>sdRating</th></tr>\n",
       "\t<tr><th scope=col>&lt;dbl&gt;</th><th scope=col>&lt;dbl&gt;</th><th scope=col>&lt;dbl&gt;</th></tr>\n",
       "</thead>\n",
       "<tbody>\n",
       "\t<tr><td>2006</td><td>3.125000</td><td>0.7691224</td></tr>\n",
       "\t<tr><td>2007</td><td>3.162338</td><td>0.6998193</td></tr>\n",
       "\t<tr><td>2008</td><td>2.994624</td><td>0.5442118</td></tr>\n",
       "\t<tr><td>2009</td><td>3.073171</td><td>0.4591195</td></tr>\n",
       "\t<tr><td>2010</td><td>3.148649</td><td>0.4663426</td></tr>\n",
       "\t<tr><td>2011</td><td>3.256061</td><td>0.4899536</td></tr>\n",
       "\t<tr><td>2012</td><td>3.178205</td><td>0.4835962</td></tr>\n",
       "\t<tr><td>2013</td><td>3.197011</td><td>0.4461178</td></tr>\n",
       "\t<tr><td>2014</td><td>3.189271</td><td>0.4148615</td></tr>\n",
       "\t<tr><td>2015</td><td>3.246491</td><td>0.3810960</td></tr>\n",
       "\t<tr><td>2016</td><td>3.223624</td><td>0.4200386</td></tr>\n",
       "\t<tr><td>2017</td><td>3.312500</td><td>0.3317444</td></tr>\n",
       "</tbody>\n",
       "</table>\n"
      ],
      "text/latex": [
       "A tibble: 12 × 3\n",
       "\\begin{tabular}{lll}\n",
       " Review\\_Date & averageRating & sdRating\\\\\n",
       " <dbl> & <dbl> & <dbl>\\\\\n",
       "\\hline\n",
       "\t 2006 & 3.125000 & 0.7691224\\\\\n",
       "\t 2007 & 3.162338 & 0.6998193\\\\\n",
       "\t 2008 & 2.994624 & 0.5442118\\\\\n",
       "\t 2009 & 3.073171 & 0.4591195\\\\\n",
       "\t 2010 & 3.148649 & 0.4663426\\\\\n",
       "\t 2011 & 3.256061 & 0.4899536\\\\\n",
       "\t 2012 & 3.178205 & 0.4835962\\\\\n",
       "\t 2013 & 3.197011 & 0.4461178\\\\\n",
       "\t 2014 & 3.189271 & 0.4148615\\\\\n",
       "\t 2015 & 3.246491 & 0.3810960\\\\\n",
       "\t 2016 & 3.223624 & 0.4200386\\\\\n",
       "\t 2017 & 3.312500 & 0.3317444\\\\\n",
       "\\end{tabular}\n"
      ],
      "text/markdown": [
       "\n",
       "A tibble: 12 × 3\n",
       "\n",
       "| Review_Date &lt;dbl&gt; | averageRating &lt;dbl&gt; | sdRating &lt;dbl&gt; |\n",
       "|---|---|---|\n",
       "| 2006 | 3.125000 | 0.7691224 |\n",
       "| 2007 | 3.162338 | 0.6998193 |\n",
       "| 2008 | 2.994624 | 0.5442118 |\n",
       "| 2009 | 3.073171 | 0.4591195 |\n",
       "| 2010 | 3.148649 | 0.4663426 |\n",
       "| 2011 | 3.256061 | 0.4899536 |\n",
       "| 2012 | 3.178205 | 0.4835962 |\n",
       "| 2013 | 3.197011 | 0.4461178 |\n",
       "| 2014 | 3.189271 | 0.4148615 |\n",
       "| 2015 | 3.246491 | 0.3810960 |\n",
       "| 2016 | 3.223624 | 0.4200386 |\n",
       "| 2017 | 3.312500 | 0.3317444 |\n",
       "\n"
      ],
      "text/plain": [
       "   Review_Date averageRating sdRating \n",
       "1  2006        3.125000      0.7691224\n",
       "2  2007        3.162338      0.6998193\n",
       "3  2008        2.994624      0.5442118\n",
       "4  2009        3.073171      0.4591195\n",
       "5  2010        3.148649      0.4663426\n",
       "6  2011        3.256061      0.4899536\n",
       "7  2012        3.178205      0.4835962\n",
       "8  2013        3.197011      0.4461178\n",
       "9  2014        3.189271      0.4148615\n",
       "10 2015        3.246491      0.3810960\n",
       "11 2016        3.223624      0.4200386\n",
       "12 2017        3.312500      0.3317444"
      ]
     },
     "metadata": {},
     "output_type": "display_data"
    }
   ],
   "source": [
    "# Return the average and sd of ratings by the year a rating was given\n",
    "chocolateData %>%\n",
    "    group_by(Review_Date) %>%\n",
    "    summarise(averageRating = mean(Rating),\n",
    "             sdRating = sd(Rating))"
   ]
  },
  {
   "cell_type": "code",
   "execution_count": null,
   "metadata": {
    "_cell_guid": "97d3046a-a25a-416d-8250-781b32bfa0ae",
    "_uuid": "e70ab542d83262785ba0b7a70cbd4e2135ebea94",
    "execution": {
     "iopub.execute_input": "2025-07-08T05:42:49.402597Z",
     "iopub.status.busy": "2025-07-08T05:42:49.400837Z",
     "iopub.status.idle": "2025-07-08T05:42:49.437748Z",
     "shell.execute_reply": "2025-07-08T05:42:49.436012Z"
    },
    "trusted": true,
    "vscode": {
     "languageId": "r"
    }
   },
   "outputs": [
    {
     "data": {
      "text/html": [
       "<table class=\"dataframe\">\n",
       "<caption>A tibble: 12 × 3</caption>\n",
       "<thead>\n",
       "\t<tr><th scope=col>Review_Date</th><th scope=col>averageCocoa_Percent</th><th scope=col>sdCocoa_Percent</th></tr>\n",
       "\t<tr><th scope=col>&lt;dbl&gt;</th><th scope=col>&lt;dbl&gt;</th><th scope=col>&lt;dbl&gt;</th></tr>\n",
       "</thead>\n",
       "<tbody>\n",
       "\t<tr><td>2006</td><td>71.00000</td><td>7.424740</td></tr>\n",
       "\t<tr><td>2007</td><td>72.03896</td><td>6.951792</td></tr>\n",
       "\t<tr><td>2008</td><td>72.69892</td><td>8.412962</td></tr>\n",
       "\t<tr><td>2009</td><td>70.44309</td><td>6.895057</td></tr>\n",
       "\t<tr><td>2010</td><td>70.77928</td><td>7.424678</td></tr>\n",
       "\t<tr><td>2011</td><td>70.96970</td><td>5.377714</td></tr>\n",
       "\t<tr><td>2012</td><td>71.52821</td><td>5.725056</td></tr>\n",
       "\t<tr><td>2013</td><td>72.26630</td><td>8.325992</td></tr>\n",
       "\t<tr><td>2014</td><td>72.25304</td><td>5.201014</td></tr>\n",
       "\t<tr><td>2015</td><td>72.01404</td><td>5.258777</td></tr>\n",
       "\t<tr><td>2016</td><td>71.79817</td><td>5.490301</td></tr>\n",
       "\t<tr><td>2017</td><td>71.54167</td><td>2.702321</td></tr>\n",
       "</tbody>\n",
       "</table>\n"
      ],
      "text/latex": [
       "A tibble: 12 × 3\n",
       "\\begin{tabular}{lll}\n",
       " Review\\_Date & averageCocoa\\_Percent & sdCocoa\\_Percent\\\\\n",
       " <dbl> & <dbl> & <dbl>\\\\\n",
       "\\hline\n",
       "\t 2006 & 71.00000 & 7.424740\\\\\n",
       "\t 2007 & 72.03896 & 6.951792\\\\\n",
       "\t 2008 & 72.69892 & 8.412962\\\\\n",
       "\t 2009 & 70.44309 & 6.895057\\\\\n",
       "\t 2010 & 70.77928 & 7.424678\\\\\n",
       "\t 2011 & 70.96970 & 5.377714\\\\\n",
       "\t 2012 & 71.52821 & 5.725056\\\\\n",
       "\t 2013 & 72.26630 & 8.325992\\\\\n",
       "\t 2014 & 72.25304 & 5.201014\\\\\n",
       "\t 2015 & 72.01404 & 5.258777\\\\\n",
       "\t 2016 & 71.79817 & 5.490301\\\\\n",
       "\t 2017 & 71.54167 & 2.702321\\\\\n",
       "\\end{tabular}\n"
      ],
      "text/markdown": [
       "\n",
       "A tibble: 12 × 3\n",
       "\n",
       "| Review_Date &lt;dbl&gt; | averageCocoa_Percent &lt;dbl&gt; | sdCocoa_Percent &lt;dbl&gt; |\n",
       "|---|---|---|\n",
       "| 2006 | 71.00000 | 7.424740 |\n",
       "| 2007 | 72.03896 | 6.951792 |\n",
       "| 2008 | 72.69892 | 8.412962 |\n",
       "| 2009 | 70.44309 | 6.895057 |\n",
       "| 2010 | 70.77928 | 7.424678 |\n",
       "| 2011 | 70.96970 | 5.377714 |\n",
       "| 2012 | 71.52821 | 5.725056 |\n",
       "| 2013 | 72.26630 | 8.325992 |\n",
       "| 2014 | 72.25304 | 5.201014 |\n",
       "| 2015 | 72.01404 | 5.258777 |\n",
       "| 2016 | 71.79817 | 5.490301 |\n",
       "| 2017 | 71.54167 | 2.702321 |\n",
       "\n"
      ],
      "text/plain": [
       "   Review_Date averageCocoa_Percent sdCocoa_Percent\n",
       "1  2006        71.00000             7.424740       \n",
       "2  2007        72.03896             6.951792       \n",
       "3  2008        72.69892             8.412962       \n",
       "4  2009        70.44309             6.895057       \n",
       "5  2010        70.77928             7.424678       \n",
       "6  2011        70.96970             5.377714       \n",
       "7  2012        71.52821             5.725056       \n",
       "8  2013        72.26630             8.325992       \n",
       "9  2014        72.25304             5.201014       \n",
       "10 2015        72.01404             5.258777       \n",
       "11 2016        71.79817             5.490301       \n",
       "12 2017        71.54167             2.702321       "
      ]
     },
     "metadata": {},
     "output_type": "display_data"
    }
   ],
   "source": [
    "# Return a data_frame with the average and sd Cocoa_Percent by the year the reviews \n",
    "chocolateData %>%\n",
    "    group_by(Review_Date) %>%\n",
    "    summarise(averageCocoa_Percent = mean(Cocoa_Percent),\n",
    "             sdCocoa_Percent = sd(Cocoa_Percent))"
   ]
  },
  {
   "cell_type": "markdown",
   "metadata": {
    "_cell_guid": "d9178109-2442-4427-b3ed-913694a8ff99",
    "_uuid": "27a0c1e956dba16f53dcecd8ac2235120aeccf26"
   },
   "source": [
    "This is a really efficient way to start understanding the data. For example, it looks like chocolate bar ratings might be trending slightly upwards by year. \n",
    "\n",
    "To really get a better understanding of this, however, I really want to want to graph this data so that I can see if there's been reliable change over time. So let's move on to the final part: graphing!"
   ]
  }
 ],
 "metadata": {
  "kaggle": {
   "accelerator": "none",
   "dataSources": [
    {
     "datasetId": 1919,
     "sourceId": 3310,
     "sourceType": "datasetVersion"
    }
   ],
   "dockerImageVersionId": 30749,
   "isGpuEnabled": false,
   "isInternetEnabled": false,
   "language": "r",
   "sourceType": "notebook"
  },
  "kernelspec": {
   "display_name": "R",
   "language": "R",
   "name": "ir"
  },
  "language_info": {
   "codemirror_mode": "r",
   "file_extension": ".r",
   "mimetype": "text/x-r-source",
   "name": "R",
   "pygments_lexer": "r",
   "version": "4.4.0"
  }
 },
 "nbformat": 4,
 "nbformat_minor": 4
}
